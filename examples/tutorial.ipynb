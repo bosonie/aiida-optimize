{
 "cells": [
  {
   "cell_type": "markdown",
   "metadata": {},
   "source": [
    "# Examples for aiida-optimize "
   ]
  },
  {
   "cell_type": "markdown",
   "metadata": {},
   "source": [
    "For details on how to set up AiiDA for use with Jupyter, please refer to [the AiiDA documentation](https://aiida.readthedocs.io/projects/aiida-core/en/latest/intro/installation.html#using-aiida-in-jupyter)."
   ]
  },
  {
   "cell_type": "code",
   "execution_count": 1,
   "metadata": {},
   "outputs": [
    {
     "data": {
      "application/json": {
       "current_state": "Loaded AiiDA DB environment."
      },
      "text/html": [
       "<p>Loaded AiiDA DB environment.</p>"
      ],
      "text/latex": [
       "Loaded AiiDA DB environment.\n"
      ],
      "text/plain": [
       "Loaded AiiDA DB environment.\n"
      ]
     },
     "execution_count": 1,
     "metadata": {},
     "output_type": "execute_result"
    }
   ],
   "source": [
    "%aiida"
   ]
  },
  {
   "cell_type": "code",
   "execution_count": 2,
   "metadata": {},
   "outputs": [],
   "source": [
    "import math\n",
    "\n",
    "from aiida import orm\n",
    "from aiida.engine import calcfunction, run"
   ]
  },
  {
   "cell_type": "markdown",
   "metadata": {},
   "source": [
    "## Simple bisection example"
   ]
  },
  {
   "cell_type": "markdown",
   "metadata": {},
   "source": [
    "First, we define a `calcfunction` that contains our objective function. Here, we use a simple exponential\n",
    "$$\n",
    "f(x) = c + e^{x}\n",
    "$$"
   ]
  },
  {
   "cell_type": "code",
   "execution_count": 3,
   "metadata": {},
   "outputs": [],
   "source": [
    "@calcfunction\n",
    "def exponential(x, c):\n",
    "    return c + math.exp(x.value)"
   ]
  },
  {
   "cell_type": "code",
   "execution_count": 4,
   "metadata": {},
   "outputs": [
    {
     "data": {
      "text/plain": [
       "<Float: uuid: 31d3030b-f3ad-4253-80e0-b2279e381c11 (pk: 1562) value: 2.718281828459>"
      ]
     },
     "execution_count": 4,
     "metadata": {},
     "output_type": "execute_result"
    }
   ],
   "source": [
    "exponential(x=Float(1), c=Float(0.))"
   ]
  },
  {
   "cell_type": "markdown",
   "metadata": {},
   "source": [
    "---"
   ]
  },
  {
   "cell_type": "markdown",
   "metadata": {},
   "source": [
    "The `OptimizationWorkChain` implements the main logic of `aiida-optimize` - it is used for all optimization tasks."
   ]
  },
  {
   "cell_type": "code",
   "execution_count": 5,
   "metadata": {},
   "outputs": [],
   "source": [
    "from aiida_optimize import OptimizationWorkChain"
   ]
  },
  {
   "cell_type": "code",
   "execution_count": 6,
   "metadata": {},
   "outputs": [],
   "source": [
    "builder = OptimizationWorkChain.get_builder()"
   ]
  },
  {
   "cell_type": "markdown",
   "metadata": {},
   "source": [
    "To task of defining the steps of the optimization is handled by optimization \"engines\" - implemented as regular Python classes. Here, we use the `Bisection` engine:"
   ]
  },
  {
   "cell_type": "code",
   "execution_count": 7,
   "metadata": {},
   "outputs": [],
   "source": [
    "from aiida_optimize.engines import Bisection"
   ]
  },
  {
   "cell_type": "markdown",
   "metadata": {},
   "source": [
    "The optimization engine is passed to `OptimizationWorkChain` as an input:"
   ]
  },
  {
   "cell_type": "code",
   "execution_count": 8,
   "metadata": {},
   "outputs": [],
   "source": [
    "builder.engine = Bisection"
   ]
  },
  {
   "cell_type": "markdown",
   "metadata": {},
   "source": [
    "We also need to specify that we want to use the `exponential` as the objective function:"
   ]
  },
  {
   "cell_type": "code",
   "execution_count": 9,
   "metadata": {},
   "outputs": [],
   "source": [
    "builder.evaluate_process = exponential"
   ]
  },
  {
   "cell_type": "markdown",
   "metadata": {},
   "source": [
    "We want to optimize for `x`, while keeping `c` constant. The inputs that are kept constant need to be given in the `evaluate` input namespace:"
   ]
  },
  {
   "cell_type": "code",
   "execution_count": 10,
   "metadata": {},
   "outputs": [],
   "source": [
    "builder.evaluate = {'c': orm.Float(-2.)}"
   ]
  },
  {
   "cell_type": "markdown",
   "metadata": {},
   "source": [
    "The optimization engine may need additional inputs. These are given in the `engine_kwargs` input. To see which options are available, you can check the documentation of the `Bisection`:"
   ]
  },
  {
   "cell_type": "code",
   "execution_count": 11,
   "metadata": {},
   "outputs": [],
   "source": [
    "Bisection?"
   ]
  },
  {
   "cell_type": "code",
   "execution_count": 12,
   "metadata": {},
   "outputs": [],
   "source": [
    "builder.engine_kwargs = Dict(dict=dict(lower=-1, upper=1))"
   ]
  },
  {
   "cell_type": "markdown",
   "metadata": {},
   "source": [
    "---"
   ]
  },
  {
   "cell_type": "markdown",
   "metadata": {},
   "source": [
    "Now we're ready to run the optimization"
   ]
  },
  {
   "cell_type": "code",
   "execution_count": 13,
   "metadata": {},
   "outputs": [
    {
     "name": "stderr",
     "output_type": "stream",
     "text": [
      "07/01/2020 07:14:59 PM <34801> aiida.orm.nodes.process.workflow.workchain.WorkChainNode: [REPORT] [1567|OptimizationWorkChain|create_optimizer]: Creating optimizer instance.\n",
      "07/01/2020 07:14:59 PM <34801> aiida.orm.nodes.process.workflow.workchain.WorkChainNode: [REPORT] [1567|OptimizationWorkChain|not_finished]: Checking if optimization is finished.\n",
      "07/01/2020 07:14:59 PM <34801> aiida.orm.nodes.process.workflow.workchain.WorkChainNode: [REPORT] [1567|OptimizationWorkChain|launch_evaluations]: Launching pending evaluations.\n",
      "07/01/2020 07:14:59 PM <34801> aiida.orm.nodes.process.workflow.workchain.WorkChainNode: [REPORT] [1567|OptimizationWorkChain|launch_evaluations]: Launching evaluation 0\n",
      "07/01/2020 07:14:59 PM <34801> aiida.orm.nodes.process.workflow.workchain.WorkChainNode: [REPORT] [1567|OptimizationWorkChain|launch_evaluations]: Launching evaluation 1\n",
      "07/01/2020 07:14:59 PM <34801> aiida.orm.nodes.process.workflow.workchain.WorkChainNode: [REPORT] [1567|OptimizationWorkChain|get_results]: Checking finished evaluations.\n",
      "07/01/2020 07:14:59 PM <34801> aiida.orm.nodes.process.workflow.workchain.WorkChainNode: [REPORT] [1567|OptimizationWorkChain|get_results]: Retrieving output for evaluation 0\n",
      "07/01/2020 07:14:59 PM <34801> aiida.orm.nodes.process.workflow.workchain.WorkChainNode: [REPORT] [1567|OptimizationWorkChain|get_results]: Retrieving output for evaluation 1\n",
      "07/01/2020 07:14:59 PM <34801> aiida.orm.nodes.process.workflow.workchain.WorkChainNode: [REPORT] [1567|OptimizationWorkChain|not_finished]: Checking if optimization is finished.\n",
      "07/01/2020 07:14:59 PM <34801> aiida.orm.nodes.process.workflow.workchain.WorkChainNode: [REPORT] [1567|OptimizationWorkChain|launch_evaluations]: Launching pending evaluations.\n",
      "07/01/2020 07:14:59 PM <34801> aiida.orm.nodes.process.workflow.workchain.WorkChainNode: [REPORT] [1567|OptimizationWorkChain|launch_evaluations]: Launching evaluation 2\n",
      "07/01/2020 07:15:00 PM <34801> aiida.orm.nodes.process.workflow.workchain.WorkChainNode: [REPORT] [1567|OptimizationWorkChain|get_results]: Checking finished evaluations.\n",
      "07/01/2020 07:15:00 PM <34801> aiida.orm.nodes.process.workflow.workchain.WorkChainNode: [REPORT] [1567|OptimizationWorkChain|get_results]: Retrieving output for evaluation 2\n",
      "07/01/2020 07:15:00 PM <34801> aiida.orm.nodes.process.workflow.workchain.WorkChainNode: [REPORT] [1567|OptimizationWorkChain|not_finished]: Checking if optimization is finished.\n",
      "07/01/2020 07:15:00 PM <34801> aiida.orm.nodes.process.workflow.workchain.WorkChainNode: [REPORT] [1567|OptimizationWorkChain|launch_evaluations]: Launching pending evaluations.\n",
      "07/01/2020 07:15:00 PM <34801> aiida.orm.nodes.process.workflow.workchain.WorkChainNode: [REPORT] [1567|OptimizationWorkChain|launch_evaluations]: Launching evaluation 3\n",
      "07/01/2020 07:15:00 PM <34801> aiida.orm.nodes.process.workflow.workchain.WorkChainNode: [REPORT] [1567|OptimizationWorkChain|get_results]: Checking finished evaluations.\n",
      "07/01/2020 07:15:00 PM <34801> aiida.orm.nodes.process.workflow.workchain.WorkChainNode: [REPORT] [1567|OptimizationWorkChain|get_results]: Retrieving output for evaluation 3\n",
      "07/01/2020 07:15:00 PM <34801> aiida.orm.nodes.process.workflow.workchain.WorkChainNode: [REPORT] [1567|OptimizationWorkChain|not_finished]: Checking if optimization is finished.\n",
      "07/01/2020 07:15:00 PM <34801> aiida.orm.nodes.process.workflow.workchain.WorkChainNode: [REPORT] [1567|OptimizationWorkChain|launch_evaluations]: Launching pending evaluations.\n",
      "07/01/2020 07:15:00 PM <34801> aiida.orm.nodes.process.workflow.workchain.WorkChainNode: [REPORT] [1567|OptimizationWorkChain|launch_evaluations]: Launching evaluation 4\n",
      "07/01/2020 07:15:00 PM <34801> aiida.orm.nodes.process.workflow.workchain.WorkChainNode: [REPORT] [1567|OptimizationWorkChain|get_results]: Checking finished evaluations.\n",
      "07/01/2020 07:15:00 PM <34801> aiida.orm.nodes.process.workflow.workchain.WorkChainNode: [REPORT] [1567|OptimizationWorkChain|get_results]: Retrieving output for evaluation 4\n",
      "07/01/2020 07:15:00 PM <34801> aiida.orm.nodes.process.workflow.workchain.WorkChainNode: [REPORT] [1567|OptimizationWorkChain|not_finished]: Checking if optimization is finished.\n",
      "07/01/2020 07:15:00 PM <34801> aiida.orm.nodes.process.workflow.workchain.WorkChainNode: [REPORT] [1567|OptimizationWorkChain|launch_evaluations]: Launching pending evaluations.\n",
      "07/01/2020 07:15:00 PM <34801> aiida.orm.nodes.process.workflow.workchain.WorkChainNode: [REPORT] [1567|OptimizationWorkChain|launch_evaluations]: Launching evaluation 5\n",
      "07/01/2020 07:15:00 PM <34801> aiida.orm.nodes.process.workflow.workchain.WorkChainNode: [REPORT] [1567|OptimizationWorkChain|get_results]: Checking finished evaluations.\n",
      "07/01/2020 07:15:00 PM <34801> aiida.orm.nodes.process.workflow.workchain.WorkChainNode: [REPORT] [1567|OptimizationWorkChain|get_results]: Retrieving output for evaluation 5\n",
      "07/01/2020 07:15:00 PM <34801> aiida.orm.nodes.process.workflow.workchain.WorkChainNode: [REPORT] [1567|OptimizationWorkChain|not_finished]: Checking if optimization is finished.\n",
      "07/01/2020 07:15:00 PM <34801> aiida.orm.nodes.process.workflow.workchain.WorkChainNode: [REPORT] [1567|OptimizationWorkChain|launch_evaluations]: Launching pending evaluations.\n",
      "07/01/2020 07:15:01 PM <34801> aiida.orm.nodes.process.workflow.workchain.WorkChainNode: [REPORT] [1567|OptimizationWorkChain|launch_evaluations]: Launching evaluation 6\n",
      "07/01/2020 07:15:01 PM <34801> aiida.orm.nodes.process.workflow.workchain.WorkChainNode: [REPORT] [1567|OptimizationWorkChain|get_results]: Checking finished evaluations.\n",
      "07/01/2020 07:15:01 PM <34801> aiida.orm.nodes.process.workflow.workchain.WorkChainNode: [REPORT] [1567|OptimizationWorkChain|get_results]: Retrieving output for evaluation 6\n",
      "07/01/2020 07:15:01 PM <34801> aiida.orm.nodes.process.workflow.workchain.WorkChainNode: [REPORT] [1567|OptimizationWorkChain|not_finished]: Checking if optimization is finished.\n",
      "07/01/2020 07:15:01 PM <34801> aiida.orm.nodes.process.workflow.workchain.WorkChainNode: [REPORT] [1567|OptimizationWorkChain|launch_evaluations]: Launching pending evaluations.\n",
      "07/01/2020 07:15:01 PM <34801> aiida.orm.nodes.process.workflow.workchain.WorkChainNode: [REPORT] [1567|OptimizationWorkChain|launch_evaluations]: Launching evaluation 7\n",
      "07/01/2020 07:15:01 PM <34801> aiida.orm.nodes.process.workflow.workchain.WorkChainNode: [REPORT] [1567|OptimizationWorkChain|get_results]: Checking finished evaluations.\n",
      "07/01/2020 07:15:01 PM <34801> aiida.orm.nodes.process.workflow.workchain.WorkChainNode: [REPORT] [1567|OptimizationWorkChain|get_results]: Retrieving output for evaluation 7\n",
      "07/01/2020 07:15:01 PM <34801> aiida.orm.nodes.process.workflow.workchain.WorkChainNode: [REPORT] [1567|OptimizationWorkChain|not_finished]: Checking if optimization is finished.\n",
      "07/01/2020 07:15:01 PM <34801> aiida.orm.nodes.process.workflow.workchain.WorkChainNode: [REPORT] [1567|OptimizationWorkChain|launch_evaluations]: Launching pending evaluations.\n",
      "07/01/2020 07:15:01 PM <34801> aiida.orm.nodes.process.workflow.workchain.WorkChainNode: [REPORT] [1567|OptimizationWorkChain|launch_evaluations]: Launching evaluation 8\n",
      "07/01/2020 07:15:01 PM <34801> aiida.orm.nodes.process.workflow.workchain.WorkChainNode: [REPORT] [1567|OptimizationWorkChain|get_results]: Checking finished evaluations.\n",
      "07/01/2020 07:15:01 PM <34801> aiida.orm.nodes.process.workflow.workchain.WorkChainNode: [REPORT] [1567|OptimizationWorkChain|get_results]: Retrieving output for evaluation 8\n",
      "07/01/2020 07:15:01 PM <34801> aiida.orm.nodes.process.workflow.workchain.WorkChainNode: [REPORT] [1567|OptimizationWorkChain|not_finished]: Checking if optimization is finished.\n",
      "07/01/2020 07:15:01 PM <34801> aiida.orm.nodes.process.workflow.workchain.WorkChainNode: [REPORT] [1567|OptimizationWorkChain|launch_evaluations]: Launching pending evaluations.\n",
      "07/01/2020 07:15:01 PM <34801> aiida.orm.nodes.process.workflow.workchain.WorkChainNode: [REPORT] [1567|OptimizationWorkChain|launch_evaluations]: Launching evaluation 9\n",
      "07/01/2020 07:15:02 PM <34801> aiida.orm.nodes.process.workflow.workchain.WorkChainNode: [REPORT] [1567|OptimizationWorkChain|get_results]: Checking finished evaluations.\n"
     ]
    },
    {
     "name": "stderr",
     "output_type": "stream",
     "text": [
      "07/01/2020 07:15:02 PM <34801> aiida.orm.nodes.process.workflow.workchain.WorkChainNode: [REPORT] [1567|OptimizationWorkChain|get_results]: Retrieving output for evaluation 9\n",
      "07/01/2020 07:15:02 PM <34801> aiida.orm.nodes.process.workflow.workchain.WorkChainNode: [REPORT] [1567|OptimizationWorkChain|not_finished]: Checking if optimization is finished.\n",
      "07/01/2020 07:15:02 PM <34801> aiida.orm.nodes.process.workflow.workchain.WorkChainNode: [REPORT] [1567|OptimizationWorkChain|launch_evaluations]: Launching pending evaluations.\n",
      "07/01/2020 07:15:02 PM <34801> aiida.orm.nodes.process.workflow.workchain.WorkChainNode: [REPORT] [1567|OptimizationWorkChain|launch_evaluations]: Launching evaluation 10\n",
      "07/01/2020 07:15:02 PM <34801> aiida.orm.nodes.process.workflow.workchain.WorkChainNode: [REPORT] [1567|OptimizationWorkChain|get_results]: Checking finished evaluations.\n",
      "07/01/2020 07:15:02 PM <34801> aiida.orm.nodes.process.workflow.workchain.WorkChainNode: [REPORT] [1567|OptimizationWorkChain|get_results]: Retrieving output for evaluation 10\n",
      "07/01/2020 07:15:02 PM <34801> aiida.orm.nodes.process.workflow.workchain.WorkChainNode: [REPORT] [1567|OptimizationWorkChain|not_finished]: Checking if optimization is finished.\n",
      "07/01/2020 07:15:02 PM <34801> aiida.orm.nodes.process.workflow.workchain.WorkChainNode: [REPORT] [1567|OptimizationWorkChain|launch_evaluations]: Launching pending evaluations.\n",
      "07/01/2020 07:15:02 PM <34801> aiida.orm.nodes.process.workflow.workchain.WorkChainNode: [REPORT] [1567|OptimizationWorkChain|launch_evaluations]: Launching evaluation 11\n",
      "07/01/2020 07:15:02 PM <34801> aiida.orm.nodes.process.workflow.workchain.WorkChainNode: [REPORT] [1567|OptimizationWorkChain|get_results]: Checking finished evaluations.\n",
      "07/01/2020 07:15:02 PM <34801> aiida.orm.nodes.process.workflow.workchain.WorkChainNode: [REPORT] [1567|OptimizationWorkChain|get_results]: Retrieving output for evaluation 11\n",
      "07/01/2020 07:15:02 PM <34801> aiida.orm.nodes.process.workflow.workchain.WorkChainNode: [REPORT] [1567|OptimizationWorkChain|not_finished]: Checking if optimization is finished.\n",
      "07/01/2020 07:15:02 PM <34801> aiida.orm.nodes.process.workflow.workchain.WorkChainNode: [REPORT] [1567|OptimizationWorkChain|launch_evaluations]: Launching pending evaluations.\n",
      "07/01/2020 07:15:02 PM <34801> aiida.orm.nodes.process.workflow.workchain.WorkChainNode: [REPORT] [1567|OptimizationWorkChain|launch_evaluations]: Launching evaluation 12\n",
      "07/01/2020 07:15:02 PM <34801> aiida.orm.nodes.process.workflow.workchain.WorkChainNode: [REPORT] [1567|OptimizationWorkChain|get_results]: Checking finished evaluations.\n",
      "07/01/2020 07:15:02 PM <34801> aiida.orm.nodes.process.workflow.workchain.WorkChainNode: [REPORT] [1567|OptimizationWorkChain|get_results]: Retrieving output for evaluation 12\n",
      "07/01/2020 07:15:02 PM <34801> aiida.orm.nodes.process.workflow.workchain.WorkChainNode: [REPORT] [1567|OptimizationWorkChain|not_finished]: Checking if optimization is finished.\n",
      "07/01/2020 07:15:03 PM <34801> aiida.orm.nodes.process.workflow.workchain.WorkChainNode: [REPORT] [1567|OptimizationWorkChain|launch_evaluations]: Launching pending evaluations.\n",
      "07/01/2020 07:15:03 PM <34801> aiida.orm.nodes.process.workflow.workchain.WorkChainNode: [REPORT] [1567|OptimizationWorkChain|launch_evaluations]: Launching evaluation 13\n",
      "07/01/2020 07:15:03 PM <34801> aiida.orm.nodes.process.workflow.workchain.WorkChainNode: [REPORT] [1567|OptimizationWorkChain|get_results]: Checking finished evaluations.\n",
      "07/01/2020 07:15:03 PM <34801> aiida.orm.nodes.process.workflow.workchain.WorkChainNode: [REPORT] [1567|OptimizationWorkChain|get_results]: Retrieving output for evaluation 13\n",
      "07/01/2020 07:15:03 PM <34801> aiida.orm.nodes.process.workflow.workchain.WorkChainNode: [REPORT] [1567|OptimizationWorkChain|not_finished]: Checking if optimization is finished.\n",
      "07/01/2020 07:15:03 PM <34801> aiida.orm.nodes.process.workflow.workchain.WorkChainNode: [REPORT] [1567|OptimizationWorkChain|launch_evaluations]: Launching pending evaluations.\n",
      "07/01/2020 07:15:03 PM <34801> aiida.orm.nodes.process.workflow.workchain.WorkChainNode: [REPORT] [1567|OptimizationWorkChain|launch_evaluations]: Launching evaluation 14\n",
      "07/01/2020 07:15:03 PM <34801> aiida.orm.nodes.process.workflow.workchain.WorkChainNode: [REPORT] [1567|OptimizationWorkChain|get_results]: Checking finished evaluations.\n",
      "07/01/2020 07:15:03 PM <34801> aiida.orm.nodes.process.workflow.workchain.WorkChainNode: [REPORT] [1567|OptimizationWorkChain|get_results]: Retrieving output for evaluation 14\n",
      "07/01/2020 07:15:03 PM <34801> aiida.orm.nodes.process.workflow.workchain.WorkChainNode: [REPORT] [1567|OptimizationWorkChain|not_finished]: Checking if optimization is finished.\n",
      "07/01/2020 07:15:03 PM <34801> aiida.orm.nodes.process.workflow.workchain.WorkChainNode: [REPORT] [1567|OptimizationWorkChain|launch_evaluations]: Launching pending evaluations.\n",
      "07/01/2020 07:15:03 PM <34801> aiida.orm.nodes.process.workflow.workchain.WorkChainNode: [REPORT] [1567|OptimizationWorkChain|launch_evaluations]: Launching evaluation 15\n",
      "07/01/2020 07:15:03 PM <34801> aiida.orm.nodes.process.workflow.workchain.WorkChainNode: [REPORT] [1567|OptimizationWorkChain|get_results]: Checking finished evaluations.\n",
      "07/01/2020 07:15:03 PM <34801> aiida.orm.nodes.process.workflow.workchain.WorkChainNode: [REPORT] [1567|OptimizationWorkChain|get_results]: Retrieving output for evaluation 15\n",
      "07/01/2020 07:15:03 PM <34801> aiida.orm.nodes.process.workflow.workchain.WorkChainNode: [REPORT] [1567|OptimizationWorkChain|not_finished]: Checking if optimization is finished.\n",
      "07/01/2020 07:15:03 PM <34801> aiida.orm.nodes.process.workflow.workchain.WorkChainNode: [REPORT] [1567|OptimizationWorkChain|launch_evaluations]: Launching pending evaluations.\n",
      "07/01/2020 07:15:03 PM <34801> aiida.orm.nodes.process.workflow.workchain.WorkChainNode: [REPORT] [1567|OptimizationWorkChain|launch_evaluations]: Launching evaluation 16\n",
      "07/01/2020 07:15:04 PM <34801> aiida.orm.nodes.process.workflow.workchain.WorkChainNode: [REPORT] [1567|OptimizationWorkChain|get_results]: Checking finished evaluations.\n",
      "07/01/2020 07:15:04 PM <34801> aiida.orm.nodes.process.workflow.workchain.WorkChainNode: [REPORT] [1567|OptimizationWorkChain|get_results]: Retrieving output for evaluation 16\n",
      "07/01/2020 07:15:04 PM <34801> aiida.orm.nodes.process.workflow.workchain.WorkChainNode: [REPORT] [1567|OptimizationWorkChain|not_finished]: Checking if optimization is finished.\n",
      "07/01/2020 07:15:04 PM <34801> aiida.orm.nodes.process.workflow.workchain.WorkChainNode: [REPORT] [1567|OptimizationWorkChain|launch_evaluations]: Launching pending evaluations.\n",
      "07/01/2020 07:15:04 PM <34801> aiida.orm.nodes.process.workflow.workchain.WorkChainNode: [REPORT] [1567|OptimizationWorkChain|launch_evaluations]: Launching evaluation 17\n",
      "07/01/2020 07:15:04 PM <34801> aiida.orm.nodes.process.workflow.workchain.WorkChainNode: [REPORT] [1567|OptimizationWorkChain|get_results]: Checking finished evaluations.\n",
      "07/01/2020 07:15:04 PM <34801> aiida.orm.nodes.process.workflow.workchain.WorkChainNode: [REPORT] [1567|OptimizationWorkChain|get_results]: Retrieving output for evaluation 17\n",
      "07/01/2020 07:15:04 PM <34801> aiida.orm.nodes.process.workflow.workchain.WorkChainNode: [REPORT] [1567|OptimizationWorkChain|not_finished]: Checking if optimization is finished.\n",
      "07/01/2020 07:15:04 PM <34801> aiida.orm.nodes.process.workflow.workchain.WorkChainNode: [REPORT] [1567|OptimizationWorkChain|launch_evaluations]: Launching pending evaluations.\n",
      "07/01/2020 07:15:04 PM <34801> aiida.orm.nodes.process.workflow.workchain.WorkChainNode: [REPORT] [1567|OptimizationWorkChain|launch_evaluations]: Launching evaluation 18\n",
      "07/01/2020 07:15:04 PM <34801> aiida.orm.nodes.process.workflow.workchain.WorkChainNode: [REPORT] [1567|OptimizationWorkChain|get_results]: Checking finished evaluations.\n",
      "07/01/2020 07:15:04 PM <34801> aiida.orm.nodes.process.workflow.workchain.WorkChainNode: [REPORT] [1567|OptimizationWorkChain|get_results]: Retrieving output for evaluation 18\n",
      "07/01/2020 07:15:04 PM <34801> aiida.orm.nodes.process.workflow.workchain.WorkChainNode: [REPORT] [1567|OptimizationWorkChain|not_finished]: Checking if optimization is finished.\n"
     ]
    },
    {
     "name": "stderr",
     "output_type": "stream",
     "text": [
      "07/01/2020 07:15:04 PM <34801> aiida.orm.nodes.process.workflow.workchain.WorkChainNode: [REPORT] [1567|OptimizationWorkChain|launch_evaluations]: Launching pending evaluations.\n",
      "07/01/2020 07:15:04 PM <34801> aiida.orm.nodes.process.workflow.workchain.WorkChainNode: [REPORT] [1567|OptimizationWorkChain|launch_evaluations]: Launching evaluation 19\n",
      "07/01/2020 07:15:04 PM <34801> aiida.orm.nodes.process.workflow.workchain.WorkChainNode: [REPORT] [1567|OptimizationWorkChain|get_results]: Checking finished evaluations.\n",
      "07/01/2020 07:15:04 PM <34801> aiida.orm.nodes.process.workflow.workchain.WorkChainNode: [REPORT] [1567|OptimizationWorkChain|get_results]: Retrieving output for evaluation 19\n",
      "07/01/2020 07:15:04 PM <34801> aiida.orm.nodes.process.workflow.workchain.WorkChainNode: [REPORT] [1567|OptimizationWorkChain|not_finished]: Checking if optimization is finished.\n",
      "07/01/2020 07:15:04 PM <34801> aiida.orm.nodes.process.workflow.workchain.WorkChainNode: [REPORT] [1567|OptimizationWorkChain|launch_evaluations]: Launching pending evaluations.\n",
      "07/01/2020 07:15:04 PM <34801> aiida.orm.nodes.process.workflow.workchain.WorkChainNode: [REPORT] [1567|OptimizationWorkChain|launch_evaluations]: Launching evaluation 20\n",
      "07/01/2020 07:15:05 PM <34801> aiida.orm.nodes.process.workflow.workchain.WorkChainNode: [REPORT] [1567|OptimizationWorkChain|get_results]: Checking finished evaluations.\n",
      "07/01/2020 07:15:05 PM <34801> aiida.orm.nodes.process.workflow.workchain.WorkChainNode: [REPORT] [1567|OptimizationWorkChain|get_results]: Retrieving output for evaluation 20\n",
      "07/01/2020 07:15:05 PM <34801> aiida.orm.nodes.process.workflow.workchain.WorkChainNode: [REPORT] [1567|OptimizationWorkChain|not_finished]: Checking if optimization is finished.\n",
      "07/01/2020 07:15:05 PM <34801> aiida.orm.nodes.process.workflow.workchain.WorkChainNode: [REPORT] [1567|OptimizationWorkChain|launch_evaluations]: Launching pending evaluations.\n",
      "07/01/2020 07:15:05 PM <34801> aiida.orm.nodes.process.workflow.workchain.WorkChainNode: [REPORT] [1567|OptimizationWorkChain|launch_evaluations]: Launching evaluation 21\n",
      "07/01/2020 07:15:05 PM <34801> aiida.orm.nodes.process.workflow.workchain.WorkChainNode: [REPORT] [1567|OptimizationWorkChain|get_results]: Checking finished evaluations.\n",
      "07/01/2020 07:15:05 PM <34801> aiida.orm.nodes.process.workflow.workchain.WorkChainNode: [REPORT] [1567|OptimizationWorkChain|get_results]: Retrieving output for evaluation 21\n",
      "07/01/2020 07:15:05 PM <34801> aiida.orm.nodes.process.workflow.workchain.WorkChainNode: [REPORT] [1567|OptimizationWorkChain|not_finished]: Checking if optimization is finished.\n",
      "07/01/2020 07:15:05 PM <34801> aiida.orm.nodes.process.workflow.workchain.WorkChainNode: [REPORT] [1567|OptimizationWorkChain|launch_evaluations]: Launching pending evaluations.\n",
      "07/01/2020 07:15:05 PM <34801> aiida.orm.nodes.process.workflow.workchain.WorkChainNode: [REPORT] [1567|OptimizationWorkChain|launch_evaluations]: Launching evaluation 22\n",
      "07/01/2020 07:15:05 PM <34801> aiida.orm.nodes.process.workflow.workchain.WorkChainNode: [REPORT] [1567|OptimizationWorkChain|get_results]: Checking finished evaluations.\n",
      "07/01/2020 07:15:05 PM <34801> aiida.orm.nodes.process.workflow.workchain.WorkChainNode: [REPORT] [1567|OptimizationWorkChain|get_results]: Retrieving output for evaluation 22\n",
      "07/01/2020 07:15:05 PM <34801> aiida.orm.nodes.process.workflow.workchain.WorkChainNode: [REPORT] [1567|OptimizationWorkChain|not_finished]: Checking if optimization is finished.\n",
      "07/01/2020 07:15:05 PM <34801> aiida.orm.nodes.process.workflow.workchain.WorkChainNode: [REPORT] [1567|OptimizationWorkChain|finalize]: Finalizing optimization procedure.\n"
     ]
    }
   ],
   "source": [
    "res = run(builder)"
   ]
  },
  {
   "cell_type": "markdown",
   "metadata": {},
   "source": [
    "The optimization workchain itself has two outputs: The output of the optimal process, and its UUID."
   ]
  },
  {
   "cell_type": "code",
   "execution_count": 14,
   "metadata": {},
   "outputs": [
    {
     "data": {
      "text/plain": [
       "{'optimal_process_output': <Float: uuid: 181a0344-36bf-4f31-8b55-c15627491640 (pk: 1636) value: -9.4986478504921e-07>,\n",
       " 'optimal_process_uuid': <Str: uuid: 95ae3793-4990-4f03-89ab-b16e54958c0f (pk: 1637) value: 35475559-971e-437c-aa70-39563b7ac310>}"
      ]
     },
     "execution_count": 14,
     "metadata": {},
     "output_type": "execute_result"
    }
   ],
   "source": [
    "res"
   ]
  },
  {
   "cell_type": "markdown",
   "metadata": {},
   "source": [
    "From the UUID, we can easily load the optimal process and inspect it:"
   ]
  },
  {
   "cell_type": "code",
   "execution_count": 15,
   "metadata": {},
   "outputs": [],
   "source": [
    "opt_process = load_node(res['optimal_process_uuid'].value)"
   ]
  },
  {
   "cell_type": "code",
   "execution_count": 16,
   "metadata": {},
   "outputs": [
    {
     "data": {
      "text/plain": [
       "<Float: uuid: 0b64cdca-e83f-4e04-9c32-253e5e5927ae (pk: 1634) value: 0.69314670562744>"
      ]
     },
     "execution_count": 16,
     "metadata": {},
     "output_type": "execute_result"
    }
   ],
   "source": [
    "opt_process.inputs.x"
   ]
  },
  {
   "cell_type": "markdown",
   "metadata": {},
   "source": [
    "## More complex example"
   ]
  },
  {
   "cell_type": "markdown",
   "metadata": {},
   "source": [
    "Next, let us tackle a more complicated example: The WorkChain defined below implements the potential\n",
    "$$ f(x, y, z) = x^2 + y^2 + z^2$$\n",
    "\n",
    "To make things more interesting, each of the inputs is given in a different way:\n",
    "- `x` is a simple input\n",
    "- `y` is inside an input namespace\n",
    "- `z` is a `Dict`, and the actual value is its `['value']`\n",
    "\n",
    "This is more representative of optimizing a (potentially comlex) real-world process."
   ]
  },
  {
   "cell_type": "code",
   "execution_count": 17,
   "metadata": {},
   "outputs": [],
   "source": [
    "from aiida.engine import WorkChain"
   ]
  },
  {
   "cell_type": "code",
   "execution_count": 18,
   "metadata": {},
   "outputs": [],
   "source": [
    "class Potential(WorkChain):\n",
    "    @classmethod\n",
    "    def define(cls, spec):\n",
    "        super().define(spec)\n",
    "        spec.input('x', valid_type=orm.Float)\n",
    "        spec.input('namespace.y', valid_type=orm.Float)\n",
    "        spec.input('z', valid_type=orm.Dict)\n",
    "        \n",
    "        spec.output('res', valid_type=orm.Float)\n",
    "        \n",
    "        spec.outline(\n",
    "            cls.run_calculation\n",
    "        )\n",
    "    \n",
    "    def run_calculation(self):\n",
    "        # Note: the following line breaks data provenance - the calculation should\n",
    "        # happen in either a calcfunction or a CalcJob. It's used here just for\n",
    "        # simplicity\n",
    "        self.out('res', (self.inputs.x**2 + self.inputs.namespace['y']**2 + self.inputs.z['value']**2).store())"
   ]
  },
  {
   "cell_type": "code",
   "execution_count": 19,
   "metadata": {},
   "outputs": [
    {
     "data": {
      "text/plain": [
       "{'res': <Float: uuid: b3f168dc-035f-400e-ac2d-15c48e3aa369 (pk: 1642) value: 14.0>}"
      ]
     },
     "execution_count": 19,
     "metadata": {},
     "output_type": "execute_result"
    }
   ],
   "source": [
    "run(Potential, x=orm.Float(1.), namespace={'y': orm.Float(2.)}, z=orm.Dict(dict=dict(value=3.)))"
   ]
  },
  {
   "cell_type": "markdown",
   "metadata": {},
   "source": [
    "---"
   ]
  },
  {
   "cell_type": "markdown",
   "metadata": {},
   "source": [
    "To transform this workchain into a format that can be handled by the `OptimizationWorkChain` and the engines, `aiida-optimize` defines wrapper workchains.\n",
    "\n",
    "The `AddInputsWorkChain` maps a single input list onto different inputs of the target process."
   ]
  },
  {
   "cell_type": "code",
   "execution_count": 20,
   "metadata": {},
   "outputs": [],
   "source": [
    "from aiida_optimize.wrappers import AddInputsWorkChain"
   ]
  },
  {
   "cell_type": "code",
   "execution_count": 21,
   "metadata": {},
   "outputs": [],
   "source": [
    "add_inputs_builder = AddInputsWorkChain.get_builder()"
   ]
  },
  {
   "cell_type": "code",
   "execution_count": 22,
   "metadata": {},
   "outputs": [],
   "source": [
    "add_inputs_builder.sub_process = Potential"
   ]
  },
  {
   "cell_type": "code",
   "execution_count": 23,
   "metadata": {},
   "outputs": [],
   "source": [
    "add_inputs_builder.added_input_keys = orm.List(list=['x', 'namespace.y', 'z:value'])"
   ]
  },
  {
   "cell_type": "code",
   "execution_count": 24,
   "metadata": {},
   "outputs": [],
   "source": [
    "add_inputs_builder.added_input_values = orm.List(list=[1., 2., 3.])"
   ]
  },
  {
   "cell_type": "code",
   "execution_count": 25,
   "metadata": {},
   "outputs": [
    {
     "name": "stderr",
     "output_type": "stream",
     "text": [
      "07/01/2020 07:15:06 PM <34801> aiida.orm.nodes.process.workflow.workchain.WorkChainNode: [REPORT] [1646|AddInputsWorkChain|run_process]: Merging inputs for the sub-process.\n",
      "07/01/2020 07:15:06 PM <34801> aiida.orm.nodes.process.workflow.workchain.WorkChainNode: [REPORT] [1646|AddInputsWorkChain|run_process]: Launching the sub-process.\n",
      "07/01/2020 07:15:07 PM <34801> aiida.orm.nodes.process.workflow.workchain.WorkChainNode: [REPORT] [1646|AddInputsWorkChain|finalize]: Retrieving outputs of the sub-process.\n"
     ]
    },
    {
     "data": {
      "text/plain": [
       "{'res': <Float: uuid: 75676f0b-92c6-4d2c-8234-8e69deb861d8 (pk: 1651) value: 14.0>}"
      ]
     },
     "execution_count": 25,
     "metadata": {},
     "output_type": "execute_result"
    }
   ],
   "source": [
    "run(add_inputs_builder)"
   ]
  },
  {
   "cell_type": "markdown",
   "metadata": {},
   "source": [
    "---"
   ]
  },
  {
   "cell_type": "code",
   "execution_count": 26,
   "metadata": {},
   "outputs": [],
   "source": [
    "builder = OptimizationWorkChain.get_builder()"
   ]
  },
  {
   "cell_type": "markdown",
   "metadata": {},
   "source": [
    "The `evaluate_process` is now `AddInputsWorkChain`:"
   ]
  },
  {
   "cell_type": "code",
   "execution_count": 27,
   "metadata": {},
   "outputs": [],
   "source": [
    "builder.evaluate_process = AddInputsWorkChain"
   ]
  },
  {
   "cell_type": "markdown",
   "metadata": {},
   "source": [
    "The `added_input_keys` and `sub_process` passed to the `AddInputsWorkChain` remain constant.\n",
    "\n",
    "**Important note:** Here, we need to transform the `Potential` into a `Str` using `aiida_tools.process_inputs.get_fullname`. Previously this was done automatically, but because of the added indirection this is no longer possible."
   ]
  },
  {
   "cell_type": "code",
   "execution_count": 28,
   "metadata": {},
   "outputs": [],
   "source": [
    "from aiida_tools.process_inputs import get_fullname\n",
    "\n",
    "builder.evaluate = {\n",
    "    'added_input_keys': orm.List(list=['x', 'namespace.y', 'z:value']),\n",
    "    'sub_process': get_fullname(Potential)\n",
    "}"
   ]
  },
  {
   "cell_type": "markdown",
   "metadata": {},
   "source": [
    "Since `Bisection` can only handle one-dimensional problems, we use the `NelderMead` engine here instead."
   ]
  },
  {
   "cell_type": "code",
   "execution_count": 30,
   "metadata": {},
   "outputs": [],
   "source": [
    "from aiida_optimize.engines import NelderMead\n",
    "\n",
    "builder.engine = NelderMead"
   ]
  },
  {
   "cell_type": "code",
   "execution_count": 31,
   "metadata": {},
   "outputs": [],
   "source": [
    "NelderMead?"
   ]
  },
  {
   "cell_type": "code",
   "execution_count": 32,
   "metadata": {},
   "outputs": [],
   "source": [
    "builder.engine_kwargs = orm.Dict(dict=dict(\n",
    "    simplex=[[1., 0., 0.], [0., 1., 0.], [0., 0., 1.], [1., 1., 0.]],\n",
    "    input_key='added_input_values',\n",
    "    result_key='res',\n",
    "    xtol=0.1,\n",
    "    ftol=0.01\n",
    "))"
   ]
  },
  {
   "cell_type": "code",
   "execution_count": 33,
   "metadata": {
    "scrolled": true
   },
   "outputs": [
    {
     "name": "stderr",
     "output_type": "stream",
     "text": [
      "07/01/2020 07:15:42 PM <34801> aiida.orm.nodes.process.workflow.workchain.WorkChainNode: [REPORT] [1657|OptimizationWorkChain|create_optimizer]: Creating optimizer instance.\n",
      "07/01/2020 07:15:42 PM <34801> aiida.orm.nodes.process.workflow.workchain.WorkChainNode: [REPORT] [1657|OptimizationWorkChain|not_finished]: Checking if optimization is finished.\n",
      "07/01/2020 07:15:42 PM <34801> aiida.orm.nodes.process.workflow.workchain.WorkChainNode: [REPORT] [1657|OptimizationWorkChain|launch_evaluations]: Launching pending evaluations.\n",
      "07/01/2020 07:15:42 PM <34801> aiida.orm.nodes.process.workflow.workchain.WorkChainNode: [REPORT] [1657|OptimizationWorkChain|submit_initialize]: Submitting initialization step.\n",
      "07/01/2020 07:15:42 PM <34801> aiida.orm.nodes.process.workflow.workchain.WorkChainNode: [REPORT] [1657|OptimizationWorkChain|launch_evaluations]: Launching evaluation 0\n",
      "07/01/2020 07:15:42 PM <34801> aiida.orm.nodes.process.workflow.workchain.WorkChainNode: [REPORT] [1657|OptimizationWorkChain|launch_evaluations]: Launching evaluation 1\n",
      "07/01/2020 07:15:43 PM <34801> aiida.orm.nodes.process.workflow.workchain.WorkChainNode: [REPORT] [1657|OptimizationWorkChain|launch_evaluations]: Launching evaluation 2\n",
      "07/01/2020 07:15:43 PM <34801> aiida.orm.nodes.process.workflow.workchain.WorkChainNode: [REPORT] [1657|OptimizationWorkChain|launch_evaluations]: Launching evaluation 3\n",
      "07/01/2020 07:15:43 PM <34801> aiida.orm.nodes.process.workflow.workchain.WorkChainNode: [REPORT] [1659|AddInputsWorkChain|run_process]: Merging inputs for the sub-process.\n",
      "07/01/2020 07:15:43 PM <34801> aiida.orm.nodes.process.workflow.workchain.WorkChainNode: [REPORT] [1659|AddInputsWorkChain|run_process]: Launching the sub-process.\n",
      "07/01/2020 07:15:43 PM <34801> aiida.orm.nodes.process.workflow.workchain.WorkChainNode: [REPORT] [1661|AddInputsWorkChain|run_process]: Merging inputs for the sub-process.\n",
      "07/01/2020 07:15:43 PM <34801> aiida.orm.nodes.process.workflow.workchain.WorkChainNode: [REPORT] [1661|AddInputsWorkChain|run_process]: Launching the sub-process.\n",
      "07/01/2020 07:15:43 PM <34801> aiida.orm.nodes.process.workflow.workchain.WorkChainNode: [REPORT] [1663|AddInputsWorkChain|run_process]: Merging inputs for the sub-process.\n",
      "07/01/2020 07:15:43 PM <34801> aiida.orm.nodes.process.workflow.workchain.WorkChainNode: [REPORT] [1663|AddInputsWorkChain|run_process]: Launching the sub-process.\n",
      "07/01/2020 07:15:43 PM <34801> aiida.orm.nodes.process.workflow.workchain.WorkChainNode: [REPORT] [1665|AddInputsWorkChain|run_process]: Merging inputs for the sub-process.\n",
      "07/01/2020 07:15:43 PM <34801> aiida.orm.nodes.process.workflow.workchain.WorkChainNode: [REPORT] [1665|AddInputsWorkChain|run_process]: Launching the sub-process.\n",
      "07/01/2020 07:15:44 PM <34801> aiida.orm.nodes.process.workflow.workchain.WorkChainNode: [REPORT] [1659|AddInputsWorkChain|finalize]: Retrieving outputs of the sub-process.\n",
      "07/01/2020 07:15:44 PM <34801> aiida.orm.nodes.process.workflow.workchain.WorkChainNode: [REPORT] [1661|AddInputsWorkChain|finalize]: Retrieving outputs of the sub-process.\n",
      "07/01/2020 07:15:44 PM <34801> aiida.orm.nodes.process.workflow.workchain.WorkChainNode: [REPORT] [1663|AddInputsWorkChain|finalize]: Retrieving outputs of the sub-process.\n",
      "07/01/2020 07:15:45 PM <34801> aiida.orm.nodes.process.workflow.workchain.WorkChainNode: [REPORT] [1665|AddInputsWorkChain|finalize]: Retrieving outputs of the sub-process.\n",
      "07/01/2020 07:15:45 PM <34801> aiida.orm.nodes.process.workflow.workchain.WorkChainNode: [REPORT] [1657|OptimizationWorkChain|get_results]: Checking finished evaluations.\n",
      "07/01/2020 07:15:45 PM <34801> aiida.orm.nodes.process.workflow.workchain.WorkChainNode: [REPORT] [1657|OptimizationWorkChain|get_results]: Retrieving output for evaluation 0\n",
      "07/01/2020 07:15:45 PM <34801> aiida.orm.nodes.process.workflow.workchain.WorkChainNode: [REPORT] [1657|OptimizationWorkChain|get_results]: Retrieving output for evaluation 1\n",
      "07/01/2020 07:15:45 PM <34801> aiida.orm.nodes.process.workflow.workchain.WorkChainNode: [REPORT] [1657|OptimizationWorkChain|get_results]: Retrieving output for evaluation 2\n",
      "07/01/2020 07:15:45 PM <34801> aiida.orm.nodes.process.workflow.workchain.WorkChainNode: [REPORT] [1657|OptimizationWorkChain|get_results]: Retrieving output for evaluation 3\n",
      "07/01/2020 07:15:45 PM <34801> aiida.orm.nodes.process.workflow.workchain.WorkChainNode: [REPORT] [1657|OptimizationWorkChain|not_finished]: Checking if optimization is finished.\n",
      "07/01/2020 07:15:45 PM <34801> aiida.orm.nodes.process.workflow.workchain.WorkChainNode: [REPORT] [1657|OptimizationWorkChain|launch_evaluations]: Launching pending evaluations.\n",
      "07/01/2020 07:15:45 PM <34801> aiida.orm.nodes.process.workflow.workchain.WorkChainNode: [REPORT] [1657|OptimizationWorkChain|check_finished]: Maximum distance value for the simplex: 1.4142135623730951\n",
      "07/01/2020 07:15:45 PM <34801> aiida.orm.nodes.process.workflow.workchain.WorkChainNode: [REPORT] [1657|OptimizationWorkChain|check_finished]: Maximum function difference: 1.0\n",
      "07/01/2020 07:15:45 PM <34801> aiida.orm.nodes.process.workflow.workchain.WorkChainNode: [REPORT] [1657|OptimizationWorkChain|launch_evaluations]: Launching evaluation 4\n",
      "07/01/2020 07:15:45 PM <34801> aiida.orm.nodes.process.workflow.workchain.WorkChainNode: [REPORT] [1687|AddInputsWorkChain|run_process]: Merging inputs for the sub-process.\n",
      "07/01/2020 07:15:45 PM <34801> aiida.orm.nodes.process.workflow.workchain.WorkChainNode: [REPORT] [1687|AddInputsWorkChain|run_process]: Launching the sub-process.\n",
      "07/01/2020 07:15:46 PM <34801> aiida.orm.nodes.process.workflow.workchain.WorkChainNode: [REPORT] [1687|AddInputsWorkChain|finalize]: Retrieving outputs of the sub-process.\n",
      "07/01/2020 07:15:47 PM <34801> aiida.orm.nodes.process.workflow.workchain.WorkChainNode: [REPORT] [1657|OptimizationWorkChain|get_results]: Checking finished evaluations.\n",
      "07/01/2020 07:15:47 PM <34801> aiida.orm.nodes.process.workflow.workchain.WorkChainNode: [REPORT] [1657|OptimizationWorkChain|get_results]: Retrieving output for evaluation 4\n",
      "07/01/2020 07:15:47 PM <34801> aiida.orm.nodes.process.workflow.workchain.WorkChainNode: [REPORT] [1657|OptimizationWorkChain|not_finished]: Checking if optimization is finished.\n",
      "07/01/2020 07:15:47 PM <34801> aiida.orm.nodes.process.workflow.workchain.WorkChainNode: [REPORT] [1657|OptimizationWorkChain|launch_evaluations]: Launching pending evaluations.\n",
      "07/01/2020 07:15:47 PM <34801> aiida.orm.nodes.process.workflow.workchain.WorkChainNode: [REPORT] [1657|OptimizationWorkChain|submit_expansion]: Submitting expansion step.\n",
      "07/01/2020 07:15:47 PM <34801> aiida.orm.nodes.process.workflow.workchain.WorkChainNode: [REPORT] [1657|OptimizationWorkChain|launch_evaluations]: Launching evaluation 5\n",
      "07/01/2020 07:15:47 PM <34801> aiida.orm.nodes.process.workflow.workchain.WorkChainNode: [REPORT] [1694|AddInputsWorkChain|run_process]: Merging inputs for the sub-process.\n",
      "07/01/2020 07:15:48 PM <34801> aiida.orm.nodes.process.workflow.workchain.WorkChainNode: [REPORT] [1694|AddInputsWorkChain|run_process]: Launching the sub-process.\n",
      "07/01/2020 07:15:49 PM <34801> aiida.orm.nodes.process.workflow.workchain.WorkChainNode: [REPORT] [1694|AddInputsWorkChain|finalize]: Retrieving outputs of the sub-process.\n",
      "07/01/2020 07:15:50 PM <34801> aiida.orm.nodes.process.workflow.workchain.WorkChainNode: [REPORT] [1657|OptimizationWorkChain|get_results]: Checking finished evaluations.\n",
      "07/01/2020 07:15:50 PM <34801> aiida.orm.nodes.process.workflow.workchain.WorkChainNode: [REPORT] [1657|OptimizationWorkChain|get_results]: Retrieving output for evaluation 5\n",
      "07/01/2020 07:15:50 PM <34801> aiida.orm.nodes.process.workflow.workchain.WorkChainNode: [REPORT] [1657|OptimizationWorkChain|not_finished]: Checking if optimization is finished.\n",
      "07/01/2020 07:15:50 PM <34801> aiida.orm.nodes.process.workflow.workchain.WorkChainNode: [REPORT] [1657|OptimizationWorkChain|launch_evaluations]: Launching pending evaluations.\n",
      "07/01/2020 07:15:50 PM <34801> aiida.orm.nodes.process.workflow.workchain.WorkChainNode: [REPORT] [1657|OptimizationWorkChain|check_finished]: Maximum distance value for the simplex: 1.5275252316519445\n",
      "07/01/2020 07:15:50 PM <34801> aiida.orm.nodes.process.workflow.workchain.WorkChainNode: [REPORT] [1657|OptimizationWorkChain|check_finished]: Maximum function difference: 0.33333333333333004\n"
     ]
    },
    {
     "name": "stderr",
     "output_type": "stream",
     "text": [
      "07/01/2020 07:15:50 PM <34801> aiida.orm.nodes.process.workflow.workchain.WorkChainNode: [REPORT] [1657|OptimizationWorkChain|launch_evaluations]: Launching evaluation 6\n",
      "07/01/2020 07:15:50 PM <34801> aiida.orm.nodes.process.workflow.workchain.WorkChainNode: [REPORT] [1701|AddInputsWorkChain|run_process]: Merging inputs for the sub-process.\n",
      "07/01/2020 07:15:50 PM <34801> aiida.orm.nodes.process.workflow.workchain.WorkChainNode: [REPORT] [1701|AddInputsWorkChain|run_process]: Launching the sub-process.\n",
      "07/01/2020 07:15:51 PM <34801> aiida.orm.nodes.process.workflow.workchain.WorkChainNode: [REPORT] [1701|AddInputsWorkChain|finalize]: Retrieving outputs of the sub-process.\n",
      "07/01/2020 07:15:52 PM <34801> aiida.orm.nodes.process.workflow.workchain.WorkChainNode: [REPORT] [1657|OptimizationWorkChain|get_results]: Checking finished evaluations.\n",
      "07/01/2020 07:15:52 PM <34801> aiida.orm.nodes.process.workflow.workchain.WorkChainNode: [REPORT] [1657|OptimizationWorkChain|get_results]: Retrieving output for evaluation 6\n",
      "07/01/2020 07:15:52 PM <34801> aiida.orm.nodes.process.workflow.workchain.WorkChainNode: [REPORT] [1657|OptimizationWorkChain|not_finished]: Checking if optimization is finished.\n",
      "07/01/2020 07:15:52 PM <34801> aiida.orm.nodes.process.workflow.workchain.WorkChainNode: [REPORT] [1657|OptimizationWorkChain|launch_evaluations]: Launching pending evaluations.\n",
      "07/01/2020 07:15:52 PM <34801> aiida.orm.nodes.process.workflow.workchain.WorkChainNode: [REPORT] [1657|OptimizationWorkChain|check_finished]: Maximum distance value for the simplex: 1.6442942874387496\n",
      "07/01/2020 07:15:52 PM <34801> aiida.orm.nodes.process.workflow.workchain.WorkChainNode: [REPORT] [1657|OptimizationWorkChain|check_finished]: Maximum function difference: 0.33333333333333004\n",
      "07/01/2020 07:15:52 PM <34801> aiida.orm.nodes.process.workflow.workchain.WorkChainNode: [REPORT] [1657|OptimizationWorkChain|launch_evaluations]: Launching evaluation 7\n",
      "07/01/2020 07:15:52 PM <34801> aiida.orm.nodes.process.workflow.workchain.WorkChainNode: [REPORT] [1708|AddInputsWorkChain|run_process]: Merging inputs for the sub-process.\n",
      "07/01/2020 07:15:52 PM <34801> aiida.orm.nodes.process.workflow.workchain.WorkChainNode: [REPORT] [1708|AddInputsWorkChain|run_process]: Launching the sub-process.\n",
      "07/01/2020 07:15:53 PM <34801> aiida.orm.nodes.process.workflow.workchain.WorkChainNode: [REPORT] [1708|AddInputsWorkChain|finalize]: Retrieving outputs of the sub-process.\n",
      "07/01/2020 07:15:54 PM <34801> aiida.orm.nodes.process.workflow.workchain.WorkChainNode: [REPORT] [1657|OptimizationWorkChain|get_results]: Checking finished evaluations.\n",
      "07/01/2020 07:15:54 PM <34801> aiida.orm.nodes.process.workflow.workchain.WorkChainNode: [REPORT] [1657|OptimizationWorkChain|get_results]: Retrieving output for evaluation 7\n",
      "07/01/2020 07:15:54 PM <34801> aiida.orm.nodes.process.workflow.workchain.WorkChainNode: [REPORT] [1657|OptimizationWorkChain|not_finished]: Checking if optimization is finished.\n",
      "07/01/2020 07:15:54 PM <34801> aiida.orm.nodes.process.workflow.workchain.WorkChainNode: [REPORT] [1657|OptimizationWorkChain|launch_evaluations]: Launching pending evaluations.\n",
      "07/01/2020 07:15:54 PM <34801> aiida.orm.nodes.process.workflow.workchain.WorkChainNode: [REPORT] [1657|OptimizationWorkChain|submit_inside_contraction]: Submitting inside contraction step.\n",
      "07/01/2020 07:15:54 PM <34801> aiida.orm.nodes.process.workflow.workchain.WorkChainNode: [REPORT] [1657|OptimizationWorkChain|launch_evaluations]: Launching evaluation 8\n",
      "07/01/2020 07:15:54 PM <34801> aiida.orm.nodes.process.workflow.workchain.WorkChainNode: [REPORT] [1715|AddInputsWorkChain|run_process]: Merging inputs for the sub-process.\n",
      "07/01/2020 07:15:54 PM <34801> aiida.orm.nodes.process.workflow.workchain.WorkChainNode: [REPORT] [1715|AddInputsWorkChain|run_process]: Launching the sub-process.\n",
      "07/01/2020 07:15:56 PM <34801> aiida.orm.nodes.process.workflow.workchain.WorkChainNode: [REPORT] [1715|AddInputsWorkChain|finalize]: Retrieving outputs of the sub-process.\n",
      "07/01/2020 07:15:56 PM <34801> aiida.orm.nodes.process.workflow.workchain.WorkChainNode: [REPORT] [1657|OptimizationWorkChain|get_results]: Checking finished evaluations.\n",
      "07/01/2020 07:15:56 PM <34801> aiida.orm.nodes.process.workflow.workchain.WorkChainNode: [REPORT] [1657|OptimizationWorkChain|get_results]: Retrieving output for evaluation 8\n",
      "07/01/2020 07:15:57 PM <34801> aiida.orm.nodes.process.workflow.workchain.WorkChainNode: [REPORT] [1657|OptimizationWorkChain|not_finished]: Checking if optimization is finished.\n",
      "07/01/2020 07:15:57 PM <34801> aiida.orm.nodes.process.workflow.workchain.WorkChainNode: [REPORT] [1657|OptimizationWorkChain|launch_evaluations]: Launching pending evaluations.\n",
      "07/01/2020 07:15:57 PM <34801> aiida.orm.nodes.process.workflow.workchain.WorkChainNode: [REPORT] [1657|OptimizationWorkChain|check_finished]: Maximum distance value for the simplex: 1.1893733869134382\n",
      "07/01/2020 07:15:57 PM <34801> aiida.orm.nodes.process.workflow.workchain.WorkChainNode: [REPORT] [1657|OptimizationWorkChain|check_finished]: Maximum function difference: 0.69650205761317\n",
      "07/01/2020 07:15:57 PM <34801> aiida.orm.nodes.process.workflow.workchain.WorkChainNode: [REPORT] [1657|OptimizationWorkChain|launch_evaluations]: Launching evaluation 9\n",
      "07/01/2020 07:15:57 PM <34801> aiida.orm.nodes.process.workflow.workchain.WorkChainNode: [REPORT] [1722|AddInputsWorkChain|run_process]: Merging inputs for the sub-process.\n",
      "07/01/2020 07:15:57 PM <34801> aiida.orm.nodes.process.workflow.workchain.WorkChainNode: [REPORT] [1722|AddInputsWorkChain|run_process]: Launching the sub-process.\n",
      "07/01/2020 07:15:58 PM <34801> aiida.orm.nodes.process.workflow.workchain.WorkChainNode: [REPORT] [1722|AddInputsWorkChain|finalize]: Retrieving outputs of the sub-process.\n",
      "07/01/2020 07:15:59 PM <34801> aiida.orm.nodes.process.workflow.workchain.WorkChainNode: [REPORT] [1657|OptimizationWorkChain|get_results]: Checking finished evaluations.\n",
      "07/01/2020 07:15:59 PM <34801> aiida.orm.nodes.process.workflow.workchain.WorkChainNode: [REPORT] [1657|OptimizationWorkChain|get_results]: Retrieving output for evaluation 9\n",
      "07/01/2020 07:15:59 PM <34801> aiida.orm.nodes.process.workflow.workchain.WorkChainNode: [REPORT] [1657|OptimizationWorkChain|not_finished]: Checking if optimization is finished.\n",
      "07/01/2020 07:15:59 PM <34801> aiida.orm.nodes.process.workflow.workchain.WorkChainNode: [REPORT] [1657|OptimizationWorkChain|launch_evaluations]: Launching pending evaluations.\n",
      "07/01/2020 07:15:59 PM <34801> aiida.orm.nodes.process.workflow.workchain.WorkChainNode: [REPORT] [1657|OptimizationWorkChain|submit_contraction]: Submitting contraction step.\n",
      "07/01/2020 07:15:59 PM <34801> aiida.orm.nodes.process.workflow.workchain.WorkChainNode: [REPORT] [1657|OptimizationWorkChain|launch_evaluations]: Launching evaluation 10\n",
      "07/01/2020 07:15:59 PM <34801> aiida.orm.nodes.process.workflow.workchain.WorkChainNode: [REPORT] [1729|AddInputsWorkChain|run_process]: Merging inputs for the sub-process.\n",
      "07/01/2020 07:15:59 PM <34801> aiida.orm.nodes.process.workflow.workchain.WorkChainNode: [REPORT] [1729|AddInputsWorkChain|run_process]: Launching the sub-process.\n",
      "07/01/2020 07:16:00 PM <34801> aiida.orm.nodes.process.workflow.workchain.WorkChainNode: [REPORT] [1729|AddInputsWorkChain|finalize]: Retrieving outputs of the sub-process.\n",
      "07/01/2020 07:16:01 PM <34801> aiida.orm.nodes.process.workflow.workchain.WorkChainNode: [REPORT] [1657|OptimizationWorkChain|get_results]: Checking finished evaluations.\n",
      "07/01/2020 07:16:01 PM <34801> aiida.orm.nodes.process.workflow.workchain.WorkChainNode: [REPORT] [1657|OptimizationWorkChain|get_results]: Retrieving output for evaluation 10\n",
      "07/01/2020 07:16:01 PM <34801> aiida.orm.nodes.process.workflow.workchain.WorkChainNode: [REPORT] [1657|OptimizationWorkChain|not_finished]: Checking if optimization is finished.\n",
      "07/01/2020 07:16:01 PM <34801> aiida.orm.nodes.process.workflow.workchain.WorkChainNode: [REPORT] [1657|OptimizationWorkChain|launch_evaluations]: Launching pending evaluations.\n",
      "07/01/2020 07:16:01 PM <34801> aiida.orm.nodes.process.workflow.workchain.WorkChainNode: [REPORT] [1657|OptimizationWorkChain|check_finished]: Maximum distance value for the simplex: 1.017718541054733\n"
     ]
    },
    {
     "name": "stderr",
     "output_type": "stream",
     "text": [
      "07/01/2020 07:16:01 PM <34801> aiida.orm.nodes.process.workflow.workchain.WorkChainNode: [REPORT] [1657|OptimizationWorkChain|check_finished]: Maximum function difference: 0.4765946502057701\n",
      "07/01/2020 07:16:01 PM <34801> aiida.orm.nodes.process.workflow.workchain.WorkChainNode: [REPORT] [1657|OptimizationWorkChain|launch_evaluations]: Launching evaluation 11\n",
      "07/01/2020 07:16:01 PM <34801> aiida.orm.nodes.process.workflow.workchain.WorkChainNode: [REPORT] [1736|AddInputsWorkChain|run_process]: Merging inputs for the sub-process.\n",
      "07/01/2020 07:16:01 PM <34801> aiida.orm.nodes.process.workflow.workchain.WorkChainNode: [REPORT] [1736|AddInputsWorkChain|run_process]: Launching the sub-process.\n",
      "07/01/2020 07:16:03 PM <34801> aiida.orm.nodes.process.workflow.workchain.WorkChainNode: [REPORT] [1736|AddInputsWorkChain|finalize]: Retrieving outputs of the sub-process.\n",
      "07/01/2020 07:16:03 PM <34801> aiida.orm.nodes.process.workflow.workchain.WorkChainNode: [REPORT] [1657|OptimizationWorkChain|get_results]: Checking finished evaluations.\n",
      "07/01/2020 07:16:03 PM <34801> aiida.orm.nodes.process.workflow.workchain.WorkChainNode: [REPORT] [1657|OptimizationWorkChain|get_results]: Retrieving output for evaluation 11\n",
      "07/01/2020 07:16:04 PM <34801> aiida.orm.nodes.process.workflow.workchain.WorkChainNode: [REPORT] [1657|OptimizationWorkChain|not_finished]: Checking if optimization is finished.\n",
      "07/01/2020 07:16:04 PM <34801> aiida.orm.nodes.process.workflow.workchain.WorkChainNode: [REPORT] [1657|OptimizationWorkChain|launch_evaluations]: Launching pending evaluations.\n",
      "07/01/2020 07:16:04 PM <34801> aiida.orm.nodes.process.workflow.workchain.WorkChainNode: [REPORT] [1657|OptimizationWorkChain|submit_inside_contraction]: Submitting inside contraction step.\n",
      "07/01/2020 07:16:04 PM <34801> aiida.orm.nodes.process.workflow.workchain.WorkChainNode: [REPORT] [1657|OptimizationWorkChain|launch_evaluations]: Launching evaluation 12\n",
      "07/01/2020 07:16:04 PM <34801> aiida.orm.nodes.process.workflow.workchain.WorkChainNode: [REPORT] [1743|AddInputsWorkChain|run_process]: Merging inputs for the sub-process.\n",
      "07/01/2020 07:16:04 PM <34801> aiida.orm.nodes.process.workflow.workchain.WorkChainNode: [REPORT] [1743|AddInputsWorkChain|run_process]: Launching the sub-process.\n",
      "07/01/2020 07:16:05 PM <34801> aiida.orm.nodes.process.workflow.workchain.WorkChainNode: [REPORT] [1743|AddInputsWorkChain|finalize]: Retrieving outputs of the sub-process.\n",
      "07/01/2020 07:16:06 PM <34801> aiida.orm.nodes.process.workflow.workchain.WorkChainNode: [REPORT] [1657|OptimizationWorkChain|get_results]: Checking finished evaluations.\n",
      "07/01/2020 07:16:06 PM <34801> aiida.orm.nodes.process.workflow.workchain.WorkChainNode: [REPORT] [1657|OptimizationWorkChain|get_results]: Retrieving output for evaluation 12\n",
      "07/01/2020 07:16:06 PM <34801> aiida.orm.nodes.process.workflow.workchain.WorkChainNode: [REPORT] [1657|OptimizationWorkChain|not_finished]: Checking if optimization is finished.\n",
      "07/01/2020 07:16:06 PM <34801> aiida.orm.nodes.process.workflow.workchain.WorkChainNode: [REPORT] [1657|OptimizationWorkChain|launch_evaluations]: Launching pending evaluations.\n",
      "07/01/2020 07:16:06 PM <34801> aiida.orm.nodes.process.workflow.workchain.WorkChainNode: [REPORT] [1657|OptimizationWorkChain|check_finished]: Maximum distance value for the simplex: 1.1413422085584317\n",
      "07/01/2020 07:16:06 PM <34801> aiida.orm.nodes.process.workflow.workchain.WorkChainNode: [REPORT] [1657|OptimizationWorkChain|check_finished]: Maximum function difference: 0.5306712962962999\n",
      "07/01/2020 07:16:06 PM <34801> aiida.orm.nodes.process.workflow.workchain.WorkChainNode: [REPORT] [1657|OptimizationWorkChain|launch_evaluations]: Launching evaluation 13\n",
      "07/01/2020 07:16:06 PM <34801> aiida.orm.nodes.process.workflow.workchain.WorkChainNode: [REPORT] [1750|AddInputsWorkChain|run_process]: Merging inputs for the sub-process.\n",
      "07/01/2020 07:16:06 PM <34801> aiida.orm.nodes.process.workflow.workchain.WorkChainNode: [REPORT] [1750|AddInputsWorkChain|run_process]: Launching the sub-process.\n",
      "07/01/2020 07:16:07 PM <34801> aiida.orm.nodes.process.workflow.workchain.WorkChainNode: [REPORT] [1750|AddInputsWorkChain|finalize]: Retrieving outputs of the sub-process.\n",
      "07/01/2020 07:16:08 PM <34801> aiida.orm.nodes.process.workflow.workchain.WorkChainNode: [REPORT] [1657|OptimizationWorkChain|get_results]: Checking finished evaluations.\n",
      "07/01/2020 07:16:08 PM <34801> aiida.orm.nodes.process.workflow.workchain.WorkChainNode: [REPORT] [1657|OptimizationWorkChain|get_results]: Retrieving output for evaluation 13\n",
      "07/01/2020 07:16:08 PM <34801> aiida.orm.nodes.process.workflow.workchain.WorkChainNode: [REPORT] [1657|OptimizationWorkChain|not_finished]: Checking if optimization is finished.\n",
      "07/01/2020 07:16:08 PM <34801> aiida.orm.nodes.process.workflow.workchain.WorkChainNode: [REPORT] [1657|OptimizationWorkChain|launch_evaluations]: Launching pending evaluations.\n",
      "07/01/2020 07:16:08 PM <34801> aiida.orm.nodes.process.workflow.workchain.WorkChainNode: [REPORT] [1657|OptimizationWorkChain|submit_inside_contraction]: Submitting inside contraction step.\n",
      "07/01/2020 07:16:08 PM <34801> aiida.orm.nodes.process.workflow.workchain.WorkChainNode: [REPORT] [1657|OptimizationWorkChain|launch_evaluations]: Launching evaluation 14\n",
      "07/01/2020 07:16:08 PM <34801> aiida.orm.nodes.process.workflow.workchain.WorkChainNode: [REPORT] [1757|AddInputsWorkChain|run_process]: Merging inputs for the sub-process.\n",
      "07/01/2020 07:16:08 PM <34801> aiida.orm.nodes.process.workflow.workchain.WorkChainNode: [REPORT] [1757|AddInputsWorkChain|run_process]: Launching the sub-process.\n",
      "07/01/2020 07:16:10 PM <34801> aiida.orm.nodes.process.workflow.workchain.WorkChainNode: [REPORT] [1757|AddInputsWorkChain|finalize]: Retrieving outputs of the sub-process.\n",
      "07/01/2020 07:16:10 PM <34801> aiida.orm.nodes.process.workflow.workchain.WorkChainNode: [REPORT] [1657|OptimizationWorkChain|get_results]: Checking finished evaluations.\n",
      "07/01/2020 07:16:10 PM <34801> aiida.orm.nodes.process.workflow.workchain.WorkChainNode: [REPORT] [1657|OptimizationWorkChain|get_results]: Retrieving output for evaluation 14\n",
      "07/01/2020 07:16:10 PM <34801> aiida.orm.nodes.process.workflow.workchain.WorkChainNode: [REPORT] [1657|OptimizationWorkChain|not_finished]: Checking if optimization is finished.\n",
      "07/01/2020 07:16:10 PM <34801> aiida.orm.nodes.process.workflow.workchain.WorkChainNode: [REPORT] [1657|OptimizationWorkChain|launch_evaluations]: Launching pending evaluations.\n",
      "07/01/2020 07:16:10 PM <34801> aiida.orm.nodes.process.workflow.workchain.WorkChainNode: [REPORT] [1657|OptimizationWorkChain|check_finished]: Maximum distance value for the simplex: 0.6814879289650692\n",
      "07/01/2020 07:16:10 PM <34801> aiida.orm.nodes.process.workflow.workchain.WorkChainNode: [REPORT] [1657|OptimizationWorkChain|check_finished]: Maximum function difference: 0.17009066358025\n",
      "07/01/2020 07:16:10 PM <34801> aiida.orm.nodes.process.workflow.workchain.WorkChainNode: [REPORT] [1657|OptimizationWorkChain|launch_evaluations]: Launching evaluation 15\n",
      "07/01/2020 07:16:11 PM <34801> aiida.orm.nodes.process.workflow.workchain.WorkChainNode: [REPORT] [1764|AddInputsWorkChain|run_process]: Merging inputs for the sub-process.\n",
      "07/01/2020 07:16:11 PM <34801> aiida.orm.nodes.process.workflow.workchain.WorkChainNode: [REPORT] [1764|AddInputsWorkChain|run_process]: Launching the sub-process.\n",
      "07/01/2020 07:16:12 PM <34801> aiida.orm.nodes.process.workflow.workchain.WorkChainNode: [REPORT] [1764|AddInputsWorkChain|finalize]: Retrieving outputs of the sub-process.\n",
      "07/01/2020 07:16:13 PM <34801> aiida.orm.nodes.process.workflow.workchain.WorkChainNode: [REPORT] [1657|OptimizationWorkChain|get_results]: Checking finished evaluations.\n",
      "07/01/2020 07:16:13 PM <34801> aiida.orm.nodes.process.workflow.workchain.WorkChainNode: [REPORT] [1657|OptimizationWorkChain|get_results]: Retrieving output for evaluation 15\n",
      "07/01/2020 07:16:13 PM <34801> aiida.orm.nodes.process.workflow.workchain.WorkChainNode: [REPORT] [1657|OptimizationWorkChain|not_finished]: Checking if optimization is finished.\n",
      "07/01/2020 07:16:13 PM <34801> aiida.orm.nodes.process.workflow.workchain.WorkChainNode: [REPORT] [1657|OptimizationWorkChain|launch_evaluations]: Launching pending evaluations.\n"
     ]
    },
    {
     "name": "stderr",
     "output_type": "stream",
     "text": [
      "07/01/2020 07:16:13 PM <34801> aiida.orm.nodes.process.workflow.workchain.WorkChainNode: [REPORT] [1657|OptimizationWorkChain|check_finished]: Maximum distance value for the simplex: 0.6333673439535922\n",
      "07/01/2020 07:16:13 PM <34801> aiida.orm.nodes.process.workflow.workchain.WorkChainNode: [REPORT] [1657|OptimizationWorkChain|check_finished]: Maximum function difference: 0.09370177469136001\n",
      "07/01/2020 07:16:13 PM <34801> aiida.orm.nodes.process.workflow.workchain.WorkChainNode: [REPORT] [1657|OptimizationWorkChain|launch_evaluations]: Launching evaluation 16\n",
      "07/01/2020 07:16:13 PM <34801> aiida.orm.nodes.process.workflow.workchain.WorkChainNode: [REPORT] [1771|AddInputsWorkChain|run_process]: Merging inputs for the sub-process.\n",
      "07/01/2020 07:16:13 PM <34801> aiida.orm.nodes.process.workflow.workchain.WorkChainNode: [REPORT] [1771|AddInputsWorkChain|run_process]: Launching the sub-process.\n",
      "07/01/2020 07:16:14 PM <34801> aiida.orm.nodes.process.workflow.workchain.WorkChainNode: [REPORT] [1771|AddInputsWorkChain|finalize]: Retrieving outputs of the sub-process.\n",
      "07/01/2020 07:16:15 PM <34801> aiida.orm.nodes.process.workflow.workchain.WorkChainNode: [REPORT] [1657|OptimizationWorkChain|get_results]: Checking finished evaluations.\n",
      "07/01/2020 07:16:15 PM <34801> aiida.orm.nodes.process.workflow.workchain.WorkChainNode: [REPORT] [1657|OptimizationWorkChain|get_results]: Retrieving output for evaluation 16\n",
      "07/01/2020 07:16:15 PM <34801> aiida.orm.nodes.process.workflow.workchain.WorkChainNode: [REPORT] [1657|OptimizationWorkChain|not_finished]: Checking if optimization is finished.\n",
      "07/01/2020 07:16:15 PM <34801> aiida.orm.nodes.process.workflow.workchain.WorkChainNode: [REPORT] [1657|OptimizationWorkChain|launch_evaluations]: Launching pending evaluations.\n",
      "07/01/2020 07:16:15 PM <34801> aiida.orm.nodes.process.workflow.workchain.WorkChainNode: [REPORT] [1657|OptimizationWorkChain|submit_expansion]: Submitting expansion step.\n",
      "07/01/2020 07:16:15 PM <34801> aiida.orm.nodes.process.workflow.workchain.WorkChainNode: [REPORT] [1657|OptimizationWorkChain|launch_evaluations]: Launching evaluation 17\n",
      "07/01/2020 07:16:15 PM <34801> aiida.orm.nodes.process.workflow.workchain.WorkChainNode: [REPORT] [1778|AddInputsWorkChain|run_process]: Merging inputs for the sub-process.\n",
      "07/01/2020 07:16:15 PM <34801> aiida.orm.nodes.process.workflow.workchain.WorkChainNode: [REPORT] [1778|AddInputsWorkChain|run_process]: Launching the sub-process.\n",
      "07/01/2020 07:16:17 PM <34801> aiida.orm.nodes.process.workflow.workchain.WorkChainNode: [REPORT] [1778|AddInputsWorkChain|finalize]: Retrieving outputs of the sub-process.\n",
      "07/01/2020 07:16:17 PM <34801> aiida.orm.nodes.process.workflow.workchain.WorkChainNode: [REPORT] [1657|OptimizationWorkChain|get_results]: Checking finished evaluations.\n",
      "07/01/2020 07:16:17 PM <34801> aiida.orm.nodes.process.workflow.workchain.WorkChainNode: [REPORT] [1657|OptimizationWorkChain|get_results]: Retrieving output for evaluation 17\n",
      "07/01/2020 07:16:17 PM <34801> aiida.orm.nodes.process.workflow.workchain.WorkChainNode: [REPORT] [1657|OptimizationWorkChain|not_finished]: Checking if optimization is finished.\n",
      "07/01/2020 07:16:17 PM <34801> aiida.orm.nodes.process.workflow.workchain.WorkChainNode: [REPORT] [1657|OptimizationWorkChain|launch_evaluations]: Launching pending evaluations.\n",
      "07/01/2020 07:16:17 PM <34801> aiida.orm.nodes.process.workflow.workchain.WorkChainNode: [REPORT] [1657|OptimizationWorkChain|check_finished]: Maximum distance value for the simplex: 0.5553268848088593\n",
      "07/01/2020 07:16:17 PM <34801> aiida.orm.nodes.process.workflow.workchain.WorkChainNode: [REPORT] [1657|OptimizationWorkChain|check_finished]: Maximum function difference: 0.176808667377925\n",
      "07/01/2020 07:16:17 PM <34801> aiida.orm.nodes.process.workflow.workchain.WorkChainNode: [REPORT] [1657|OptimizationWorkChain|launch_evaluations]: Launching evaluation 18\n",
      "07/01/2020 07:16:18 PM <34801> aiida.orm.nodes.process.workflow.workchain.WorkChainNode: [REPORT] [1785|AddInputsWorkChain|run_process]: Merging inputs for the sub-process.\n",
      "07/01/2020 07:16:18 PM <34801> aiida.orm.nodes.process.workflow.workchain.WorkChainNode: [REPORT] [1785|AddInputsWorkChain|run_process]: Launching the sub-process.\n",
      "07/01/2020 07:16:19 PM <34801> aiida.orm.nodes.process.workflow.workchain.WorkChainNode: [REPORT] [1785|AddInputsWorkChain|finalize]: Retrieving outputs of the sub-process.\n",
      "07/01/2020 07:16:20 PM <34801> aiida.orm.nodes.process.workflow.workchain.WorkChainNode: [REPORT] [1657|OptimizationWorkChain|get_results]: Checking finished evaluations.\n",
      "07/01/2020 07:16:20 PM <34801> aiida.orm.nodes.process.workflow.workchain.WorkChainNode: [REPORT] [1657|OptimizationWorkChain|get_results]: Retrieving output for evaluation 18\n",
      "07/01/2020 07:16:20 PM <34801> aiida.orm.nodes.process.workflow.workchain.WorkChainNode: [REPORT] [1657|OptimizationWorkChain|not_finished]: Checking if optimization is finished.\n",
      "07/01/2020 07:16:20 PM <34801> aiida.orm.nodes.process.workflow.workchain.WorkChainNode: [REPORT] [1657|OptimizationWorkChain|launch_evaluations]: Launching pending evaluations.\n",
      "07/01/2020 07:16:20 PM <34801> aiida.orm.nodes.process.workflow.workchain.WorkChainNode: [REPORT] [1657|OptimizationWorkChain|submit_inside_contraction]: Submitting inside contraction step.\n",
      "07/01/2020 07:16:20 PM <34801> aiida.orm.nodes.process.workflow.workchain.WorkChainNode: [REPORT] [1657|OptimizationWorkChain|launch_evaluations]: Launching evaluation 19\n",
      "07/01/2020 07:16:20 PM <34801> aiida.orm.nodes.process.workflow.workchain.WorkChainNode: [REPORT] [1792|AddInputsWorkChain|run_process]: Merging inputs for the sub-process.\n",
      "07/01/2020 07:16:20 PM <34801> aiida.orm.nodes.process.workflow.workchain.WorkChainNode: [REPORT] [1792|AddInputsWorkChain|run_process]: Launching the sub-process.\n",
      "07/01/2020 07:16:21 PM <34801> aiida.orm.nodes.process.workflow.workchain.WorkChainNode: [REPORT] [1792|AddInputsWorkChain|finalize]: Retrieving outputs of the sub-process.\n",
      "07/01/2020 07:16:22 PM <34801> aiida.orm.nodes.process.workflow.workchain.WorkChainNode: [REPORT] [1657|OptimizationWorkChain|get_results]: Checking finished evaluations.\n",
      "07/01/2020 07:16:22 PM <34801> aiida.orm.nodes.process.workflow.workchain.WorkChainNode: [REPORT] [1657|OptimizationWorkChain|get_results]: Retrieving output for evaluation 19\n",
      "07/01/2020 07:16:22 PM <34801> aiida.orm.nodes.process.workflow.workchain.WorkChainNode: [REPORT] [1657|OptimizationWorkChain|not_finished]: Checking if optimization is finished.\n",
      "07/01/2020 07:16:22 PM <34801> aiida.orm.nodes.process.workflow.workchain.WorkChainNode: [REPORT] [1657|OptimizationWorkChain|launch_evaluations]: Launching pending evaluations.\n",
      "07/01/2020 07:16:22 PM <34801> aiida.orm.nodes.process.workflow.workchain.WorkChainNode: [REPORT] [1657|OptimizationWorkChain|check_finished]: Maximum distance value for the simplex: 0.5553268848088593\n",
      "07/01/2020 07:16:22 PM <34801> aiida.orm.nodes.process.workflow.workchain.WorkChainNode: [REPORT] [1657|OptimizationWorkChain|check_finished]: Maximum function difference: 0.09113194126911499\n",
      "07/01/2020 07:16:22 PM <34801> aiida.orm.nodes.process.workflow.workchain.WorkChainNode: [REPORT] [1657|OptimizationWorkChain|launch_evaluations]: Launching evaluation 20\n",
      "07/01/2020 07:16:22 PM <34801> aiida.orm.nodes.process.workflow.workchain.WorkChainNode: [REPORT] [1799|AddInputsWorkChain|run_process]: Merging inputs for the sub-process.\n",
      "07/01/2020 07:16:22 PM <34801> aiida.orm.nodes.process.workflow.workchain.WorkChainNode: [REPORT] [1799|AddInputsWorkChain|run_process]: Launching the sub-process.\n",
      "07/01/2020 07:16:23 PM <34801> aiida.orm.nodes.process.workflow.workchain.WorkChainNode: [REPORT] [1799|AddInputsWorkChain|finalize]: Retrieving outputs of the sub-process.\n",
      "07/01/2020 07:16:24 PM <34801> aiida.orm.nodes.process.workflow.workchain.WorkChainNode: [REPORT] [1657|OptimizationWorkChain|get_results]: Checking finished evaluations.\n",
      "07/01/2020 07:16:24 PM <34801> aiida.orm.nodes.process.workflow.workchain.WorkChainNode: [REPORT] [1657|OptimizationWorkChain|get_results]: Retrieving output for evaluation 20\n",
      "07/01/2020 07:16:24 PM <34801> aiida.orm.nodes.process.workflow.workchain.WorkChainNode: [REPORT] [1657|OptimizationWorkChain|not_finished]: Checking if optimization is finished.\n"
     ]
    },
    {
     "name": "stderr",
     "output_type": "stream",
     "text": [
      "07/01/2020 07:16:24 PM <34801> aiida.orm.nodes.process.workflow.workchain.WorkChainNode: [REPORT] [1657|OptimizationWorkChain|launch_evaluations]: Launching pending evaluations.\n",
      "07/01/2020 07:16:24 PM <34801> aiida.orm.nodes.process.workflow.workchain.WorkChainNode: [REPORT] [1657|OptimizationWorkChain|submit_inside_contraction]: Submitting inside contraction step.\n",
      "07/01/2020 07:16:24 PM <34801> aiida.orm.nodes.process.workflow.workchain.WorkChainNode: [REPORT] [1657|OptimizationWorkChain|launch_evaluations]: Launching evaluation 21\n",
      "07/01/2020 07:16:25 PM <34801> aiida.orm.nodes.process.workflow.workchain.WorkChainNode: [REPORT] [1806|AddInputsWorkChain|run_process]: Merging inputs for the sub-process.\n",
      "07/01/2020 07:16:25 PM <34801> aiida.orm.nodes.process.workflow.workchain.WorkChainNode: [REPORT] [1806|AddInputsWorkChain|run_process]: Launching the sub-process.\n",
      "07/01/2020 07:16:26 PM <34801> aiida.orm.nodes.process.workflow.workchain.WorkChainNode: [REPORT] [1806|AddInputsWorkChain|finalize]: Retrieving outputs of the sub-process.\n",
      "07/01/2020 07:16:27 PM <34801> aiida.orm.nodes.process.workflow.workchain.WorkChainNode: [REPORT] [1657|OptimizationWorkChain|get_results]: Checking finished evaluations.\n",
      "07/01/2020 07:16:27 PM <34801> aiida.orm.nodes.process.workflow.workchain.WorkChainNode: [REPORT] [1657|OptimizationWorkChain|get_results]: Retrieving output for evaluation 21\n",
      "07/01/2020 07:16:27 PM <34801> aiida.orm.nodes.process.workflow.workchain.WorkChainNode: [REPORT] [1657|OptimizationWorkChain|not_finished]: Checking if optimization is finished.\n",
      "07/01/2020 07:16:27 PM <34801> aiida.orm.nodes.process.workflow.workchain.WorkChainNode: [REPORT] [1657|OptimizationWorkChain|launch_evaluations]: Launching pending evaluations.\n",
      "07/01/2020 07:16:27 PM <34801> aiida.orm.nodes.process.workflow.workchain.WorkChainNode: [REPORT] [1657|OptimizationWorkChain|check_finished]: Maximum distance value for the simplex: 0.3670547790935792\n",
      "07/01/2020 07:16:27 PM <34801> aiida.orm.nodes.process.workflow.workchain.WorkChainNode: [REPORT] [1657|OptimizationWorkChain|check_finished]: Maximum function difference: 0.11647354421873299\n",
      "07/01/2020 07:16:27 PM <34801> aiida.orm.nodes.process.workflow.workchain.WorkChainNode: [REPORT] [1657|OptimizationWorkChain|launch_evaluations]: Launching evaluation 22\n",
      "07/01/2020 07:16:27 PM <34801> aiida.orm.nodes.process.workflow.workchain.WorkChainNode: [REPORT] [1813|AddInputsWorkChain|run_process]: Merging inputs for the sub-process.\n",
      "07/01/2020 07:16:27 PM <34801> aiida.orm.nodes.process.workflow.workchain.WorkChainNode: [REPORT] [1813|AddInputsWorkChain|run_process]: Launching the sub-process.\n",
      "07/01/2020 07:16:28 PM <34801> aiida.orm.nodes.process.workflow.workchain.WorkChainNode: [REPORT] [1813|AddInputsWorkChain|finalize]: Retrieving outputs of the sub-process.\n",
      "07/01/2020 07:16:29 PM <34801> aiida.orm.nodes.process.workflow.workchain.WorkChainNode: [REPORT] [1657|OptimizationWorkChain|get_results]: Checking finished evaluations.\n",
      "07/01/2020 07:16:29 PM <34801> aiida.orm.nodes.process.workflow.workchain.WorkChainNode: [REPORT] [1657|OptimizationWorkChain|get_results]: Retrieving output for evaluation 22\n",
      "07/01/2020 07:16:29 PM <34801> aiida.orm.nodes.process.workflow.workchain.WorkChainNode: [REPORT] [1657|OptimizationWorkChain|not_finished]: Checking if optimization is finished.\n",
      "07/01/2020 07:16:29 PM <34801> aiida.orm.nodes.process.workflow.workchain.WorkChainNode: [REPORT] [1657|OptimizationWorkChain|launch_evaluations]: Launching pending evaluations.\n",
      "07/01/2020 07:16:29 PM <34801> aiida.orm.nodes.process.workflow.workchain.WorkChainNode: [REPORT] [1657|OptimizationWorkChain|check_finished]: Maximum distance value for the simplex: 0.30846615762542434\n",
      "07/01/2020 07:16:29 PM <34801> aiida.orm.nodes.process.workflow.workchain.WorkChainNode: [REPORT] [1657|OptimizationWorkChain|check_finished]: Maximum function difference: 0.046169418046329\n",
      "07/01/2020 07:16:29 PM <34801> aiida.orm.nodes.process.workflow.workchain.WorkChainNode: [REPORT] [1657|OptimizationWorkChain|launch_evaluations]: Launching evaluation 23\n",
      "07/01/2020 07:16:29 PM <34801> aiida.orm.nodes.process.workflow.workchain.WorkChainNode: [REPORT] [1820|AddInputsWorkChain|run_process]: Merging inputs for the sub-process.\n",
      "07/01/2020 07:16:29 PM <34801> aiida.orm.nodes.process.workflow.workchain.WorkChainNode: [REPORT] [1820|AddInputsWorkChain|run_process]: Launching the sub-process.\n",
      "07/01/2020 07:16:30 PM <34801> aiida.orm.nodes.process.workflow.workchain.WorkChainNode: [REPORT] [1820|AddInputsWorkChain|finalize]: Retrieving outputs of the sub-process.\n",
      "07/01/2020 07:16:31 PM <34801> aiida.orm.nodes.process.workflow.workchain.WorkChainNode: [REPORT] [1657|OptimizationWorkChain|get_results]: Checking finished evaluations.\n",
      "07/01/2020 07:16:31 PM <34801> aiida.orm.nodes.process.workflow.workchain.WorkChainNode: [REPORT] [1657|OptimizationWorkChain|get_results]: Retrieving output for evaluation 23\n",
      "07/01/2020 07:16:31 PM <34801> aiida.orm.nodes.process.workflow.workchain.WorkChainNode: [REPORT] [1657|OptimizationWorkChain|not_finished]: Checking if optimization is finished.\n",
      "07/01/2020 07:16:31 PM <34801> aiida.orm.nodes.process.workflow.workchain.WorkChainNode: [REPORT] [1657|OptimizationWorkChain|launch_evaluations]: Launching pending evaluations.\n",
      "07/01/2020 07:16:31 PM <34801> aiida.orm.nodes.process.workflow.workchain.WorkChainNode: [REPORT] [1657|OptimizationWorkChain|submit_inside_contraction]: Submitting inside contraction step.\n",
      "07/01/2020 07:16:31 PM <34801> aiida.orm.nodes.process.workflow.workchain.WorkChainNode: [REPORT] [1657|OptimizationWorkChain|launch_evaluations]: Launching evaluation 24\n",
      "07/01/2020 07:16:32 PM <34801> aiida.orm.nodes.process.workflow.workchain.WorkChainNode: [REPORT] [1827|AddInputsWorkChain|run_process]: Merging inputs for the sub-process.\n",
      "07/01/2020 07:16:32 PM <34801> aiida.orm.nodes.process.workflow.workchain.WorkChainNode: [REPORT] [1827|AddInputsWorkChain|run_process]: Launching the sub-process.\n",
      "07/01/2020 07:16:33 PM <34801> aiida.orm.nodes.process.workflow.workchain.WorkChainNode: [REPORT] [1827|AddInputsWorkChain|finalize]: Retrieving outputs of the sub-process.\n",
      "07/01/2020 07:16:34 PM <34801> aiida.orm.nodes.process.workflow.workchain.WorkChainNode: [REPORT] [1657|OptimizationWorkChain|get_results]: Checking finished evaluations.\n",
      "07/01/2020 07:16:34 PM <34801> aiida.orm.nodes.process.workflow.workchain.WorkChainNode: [REPORT] [1657|OptimizationWorkChain|get_results]: Retrieving output for evaluation 24\n",
      "07/01/2020 07:16:34 PM <34801> aiida.orm.nodes.process.workflow.workchain.WorkChainNode: [REPORT] [1657|OptimizationWorkChain|not_finished]: Checking if optimization is finished.\n",
      "07/01/2020 07:16:34 PM <34801> aiida.orm.nodes.process.workflow.workchain.WorkChainNode: [REPORT] [1657|OptimizationWorkChain|launch_evaluations]: Launching pending evaluations.\n",
      "07/01/2020 07:16:34 PM <34801> aiida.orm.nodes.process.workflow.workchain.WorkChainNode: [REPORT] [1657|OptimizationWorkChain|check_finished]: Maximum distance value for the simplex: 0.25042376203282896\n",
      "07/01/2020 07:16:34 PM <34801> aiida.orm.nodes.process.workflow.workchain.WorkChainNode: [REPORT] [1657|OptimizationWorkChain|check_finished]: Maximum function difference: 0.031632355340295\n",
      "07/01/2020 07:16:34 PM <34801> aiida.orm.nodes.process.workflow.workchain.WorkChainNode: [REPORT] [1657|OptimizationWorkChain|launch_evaluations]: Launching evaluation 25\n",
      "07/01/2020 07:16:34 PM <34801> aiida.orm.nodes.process.workflow.workchain.WorkChainNode: [REPORT] [1834|AddInputsWorkChain|run_process]: Merging inputs for the sub-process.\n",
      "07/01/2020 07:16:34 PM <34801> aiida.orm.nodes.process.workflow.workchain.WorkChainNode: [REPORT] [1834|AddInputsWorkChain|run_process]: Launching the sub-process.\n",
      "07/01/2020 07:16:35 PM <34801> aiida.orm.nodes.process.workflow.workchain.WorkChainNode: [REPORT] [1834|AddInputsWorkChain|finalize]: Retrieving outputs of the sub-process.\n",
      "07/01/2020 07:16:36 PM <34801> aiida.orm.nodes.process.workflow.workchain.WorkChainNode: [REPORT] [1657|OptimizationWorkChain|get_results]: Checking finished evaluations.\n",
      "07/01/2020 07:16:36 PM <34801> aiida.orm.nodes.process.workflow.workchain.WorkChainNode: [REPORT] [1657|OptimizationWorkChain|get_results]: Retrieving output for evaluation 25\n"
     ]
    },
    {
     "name": "stderr",
     "output_type": "stream",
     "text": [
      "07/01/2020 07:16:36 PM <34801> aiida.orm.nodes.process.workflow.workchain.WorkChainNode: [REPORT] [1657|OptimizationWorkChain|not_finished]: Checking if optimization is finished.\n",
      "07/01/2020 07:16:36 PM <34801> aiida.orm.nodes.process.workflow.workchain.WorkChainNode: [REPORT] [1657|OptimizationWorkChain|launch_evaluations]: Launching pending evaluations.\n",
      "07/01/2020 07:16:36 PM <34801> aiida.orm.nodes.process.workflow.workchain.WorkChainNode: [REPORT] [1657|OptimizationWorkChain|submit_inside_contraction]: Submitting inside contraction step.\n",
      "07/01/2020 07:16:36 PM <34801> aiida.orm.nodes.process.workflow.workchain.WorkChainNode: [REPORT] [1657|OptimizationWorkChain|launch_evaluations]: Launching evaluation 26\n",
      "07/01/2020 07:16:36 PM <34801> aiida.orm.nodes.process.workflow.workchain.WorkChainNode: [REPORT] [1841|AddInputsWorkChain|run_process]: Merging inputs for the sub-process.\n",
      "07/01/2020 07:16:36 PM <34801> aiida.orm.nodes.process.workflow.workchain.WorkChainNode: [REPORT] [1841|AddInputsWorkChain|run_process]: Launching the sub-process.\n",
      "07/01/2020 07:16:37 PM <34801> aiida.orm.nodes.process.workflow.workchain.WorkChainNode: [REPORT] [1841|AddInputsWorkChain|finalize]: Retrieving outputs of the sub-process.\n",
      "07/01/2020 07:16:38 PM <34801> aiida.orm.nodes.process.workflow.workchain.WorkChainNode: [REPORT] [1657|OptimizationWorkChain|get_results]: Checking finished evaluations.\n",
      "07/01/2020 07:16:38 PM <34801> aiida.orm.nodes.process.workflow.workchain.WorkChainNode: [REPORT] [1657|OptimizationWorkChain|get_results]: Retrieving output for evaluation 26\n",
      "07/01/2020 07:16:38 PM <34801> aiida.orm.nodes.process.workflow.workchain.WorkChainNode: [REPORT] [1657|OptimizationWorkChain|not_finished]: Checking if optimization is finished.\n",
      "07/01/2020 07:16:38 PM <34801> aiida.orm.nodes.process.workflow.workchain.WorkChainNode: [REPORT] [1657|OptimizationWorkChain|launch_evaluations]: Launching pending evaluations.\n",
      "07/01/2020 07:16:38 PM <34801> aiida.orm.nodes.process.workflow.workchain.WorkChainNode: [REPORT] [1657|OptimizationWorkChain|check_finished]: Maximum distance value for the simplex: 0.20153013165748832\n",
      "07/01/2020 07:16:38 PM <34801> aiida.orm.nodes.process.workflow.workchain.WorkChainNode: [REPORT] [1657|OptimizationWorkChain|check_finished]: Maximum function difference: 0.0153908443028386\n",
      "07/01/2020 07:16:38 PM <34801> aiida.orm.nodes.process.workflow.workchain.WorkChainNode: [REPORT] [1657|OptimizationWorkChain|launch_evaluations]: Launching evaluation 27\n",
      "07/01/2020 07:16:39 PM <34801> aiida.orm.nodes.process.workflow.workchain.WorkChainNode: [REPORT] [1848|AddInputsWorkChain|run_process]: Merging inputs for the sub-process.\n",
      "07/01/2020 07:16:39 PM <34801> aiida.orm.nodes.process.workflow.workchain.WorkChainNode: [REPORT] [1848|AddInputsWorkChain|run_process]: Launching the sub-process.\n",
      "07/01/2020 07:16:40 PM <34801> aiida.orm.nodes.process.workflow.workchain.WorkChainNode: [REPORT] [1848|AddInputsWorkChain|finalize]: Retrieving outputs of the sub-process.\n",
      "07/01/2020 07:16:41 PM <34801> aiida.orm.nodes.process.workflow.workchain.WorkChainNode: [REPORT] [1657|OptimizationWorkChain|get_results]: Checking finished evaluations.\n",
      "07/01/2020 07:16:41 PM <34801> aiida.orm.nodes.process.workflow.workchain.WorkChainNode: [REPORT] [1657|OptimizationWorkChain|get_results]: Retrieving output for evaluation 27\n",
      "07/01/2020 07:16:41 PM <34801> aiida.orm.nodes.process.workflow.workchain.WorkChainNode: [REPORT] [1657|OptimizationWorkChain|not_finished]: Checking if optimization is finished.\n",
      "07/01/2020 07:16:41 PM <34801> aiida.orm.nodes.process.workflow.workchain.WorkChainNode: [REPORT] [1657|OptimizationWorkChain|launch_evaluations]: Launching pending evaluations.\n",
      "07/01/2020 07:16:41 PM <34801> aiida.orm.nodes.process.workflow.workchain.WorkChainNode: [REPORT] [1657|OptimizationWorkChain|submit_inside_contraction]: Submitting inside contraction step.\n",
      "07/01/2020 07:16:41 PM <34801> aiida.orm.nodes.process.workflow.workchain.WorkChainNode: [REPORT] [1657|OptimizationWorkChain|launch_evaluations]: Launching evaluation 28\n",
      "07/01/2020 07:16:41 PM <34801> aiida.orm.nodes.process.workflow.workchain.WorkChainNode: [REPORT] [1855|AddInputsWorkChain|run_process]: Merging inputs for the sub-process.\n",
      "07/01/2020 07:16:41 PM <34801> aiida.orm.nodes.process.workflow.workchain.WorkChainNode: [REPORT] [1855|AddInputsWorkChain|run_process]: Launching the sub-process.\n",
      "07/01/2020 07:16:42 PM <34801> aiida.orm.nodes.process.workflow.workchain.WorkChainNode: [REPORT] [1855|AddInputsWorkChain|finalize]: Retrieving outputs of the sub-process.\n",
      "07/01/2020 07:16:43 PM <34801> aiida.orm.nodes.process.workflow.workchain.WorkChainNode: [REPORT] [1657|OptimizationWorkChain|get_results]: Checking finished evaluations.\n",
      "07/01/2020 07:16:43 PM <34801> aiida.orm.nodes.process.workflow.workchain.WorkChainNode: [REPORT] [1657|OptimizationWorkChain|get_results]: Retrieving output for evaluation 28\n",
      "07/01/2020 07:16:43 PM <34801> aiida.orm.nodes.process.workflow.workchain.WorkChainNode: [REPORT] [1657|OptimizationWorkChain|not_finished]: Checking if optimization is finished.\n",
      "07/01/2020 07:16:43 PM <34801> aiida.orm.nodes.process.workflow.workchain.WorkChainNode: [REPORT] [1657|OptimizationWorkChain|launch_evaluations]: Launching pending evaluations.\n",
      "07/01/2020 07:16:43 PM <34801> aiida.orm.nodes.process.workflow.workchain.WorkChainNode: [REPORT] [1657|OptimizationWorkChain|check_finished]: Maximum distance value for the simplex: 0.16090338426625256\n",
      "07/01/2020 07:16:43 PM <34801> aiida.orm.nodes.process.workflow.workchain.WorkChainNode: [REPORT] [1657|OptimizationWorkChain|check_finished]: Maximum function difference: 0.0144229636658574\n",
      "07/01/2020 07:16:43 PM <34801> aiida.orm.nodes.process.workflow.workchain.WorkChainNode: [REPORT] [1657|OptimizationWorkChain|launch_evaluations]: Launching evaluation 29\n",
      "07/01/2020 07:16:43 PM <34801> aiida.orm.nodes.process.workflow.workchain.WorkChainNode: [REPORT] [1862|AddInputsWorkChain|run_process]: Merging inputs for the sub-process.\n",
      "07/01/2020 07:16:43 PM <34801> aiida.orm.nodes.process.workflow.workchain.WorkChainNode: [REPORT] [1862|AddInputsWorkChain|run_process]: Launching the sub-process.\n",
      "07/01/2020 07:16:44 PM <34801> aiida.orm.nodes.process.workflow.workchain.WorkChainNode: [REPORT] [1862|AddInputsWorkChain|finalize]: Retrieving outputs of the sub-process.\n",
      "07/01/2020 07:16:45 PM <34801> aiida.orm.nodes.process.workflow.workchain.WorkChainNode: [REPORT] [1657|OptimizationWorkChain|get_results]: Checking finished evaluations.\n",
      "07/01/2020 07:16:45 PM <34801> aiida.orm.nodes.process.workflow.workchain.WorkChainNode: [REPORT] [1657|OptimizationWorkChain|get_results]: Retrieving output for evaluation 29\n",
      "07/01/2020 07:16:45 PM <34801> aiida.orm.nodes.process.workflow.workchain.WorkChainNode: [REPORT] [1657|OptimizationWorkChain|not_finished]: Checking if optimization is finished.\n",
      "07/01/2020 07:16:45 PM <34801> aiida.orm.nodes.process.workflow.workchain.WorkChainNode: [REPORT] [1657|OptimizationWorkChain|launch_evaluations]: Launching pending evaluations.\n",
      "07/01/2020 07:16:45 PM <34801> aiida.orm.nodes.process.workflow.workchain.WorkChainNode: [REPORT] [1657|OptimizationWorkChain|submit_inside_contraction]: Submitting inside contraction step.\n",
      "07/01/2020 07:16:45 PM <34801> aiida.orm.nodes.process.workflow.workchain.WorkChainNode: [REPORT] [1657|OptimizationWorkChain|launch_evaluations]: Launching evaluation 30\n",
      "07/01/2020 07:16:46 PM <34801> aiida.orm.nodes.process.workflow.workchain.WorkChainNode: [REPORT] [1869|AddInputsWorkChain|run_process]: Merging inputs for the sub-process.\n",
      "07/01/2020 07:16:46 PM <34801> aiida.orm.nodes.process.workflow.workchain.WorkChainNode: [REPORT] [1869|AddInputsWorkChain|run_process]: Launching the sub-process.\n",
      "07/01/2020 07:16:47 PM <34801> aiida.orm.nodes.process.workflow.workchain.WorkChainNode: [REPORT] [1869|AddInputsWorkChain|finalize]: Retrieving outputs of the sub-process.\n",
      "07/01/2020 07:16:48 PM <34801> aiida.orm.nodes.process.workflow.workchain.WorkChainNode: [REPORT] [1657|OptimizationWorkChain|get_results]: Checking finished evaluations.\n",
      "07/01/2020 07:16:48 PM <34801> aiida.orm.nodes.process.workflow.workchain.WorkChainNode: [REPORT] [1657|OptimizationWorkChain|get_results]: Retrieving output for evaluation 30\n"
     ]
    },
    {
     "name": "stderr",
     "output_type": "stream",
     "text": [
      "07/01/2020 07:16:48 PM <34801> aiida.orm.nodes.process.workflow.workchain.WorkChainNode: [REPORT] [1657|OptimizationWorkChain|not_finished]: Checking if optimization is finished.\n",
      "07/01/2020 07:16:48 PM <34801> aiida.orm.nodes.process.workflow.workchain.WorkChainNode: [REPORT] [1657|OptimizationWorkChain|launch_evaluations]: Launching pending evaluations.\n",
      "07/01/2020 07:16:48 PM <34801> aiida.orm.nodes.process.workflow.workchain.WorkChainNode: [REPORT] [1657|OptimizationWorkChain|check_finished]: Maximum distance value for the simplex: 0.1531894705187149\n",
      "07/01/2020 07:16:48 PM <34801> aiida.orm.nodes.process.workflow.workchain.WorkChainNode: [REPORT] [1657|OptimizationWorkChain|check_finished]: Maximum function difference: 0.0107203028389704\n",
      "07/01/2020 07:16:48 PM <34801> aiida.orm.nodes.process.workflow.workchain.WorkChainNode: [REPORT] [1657|OptimizationWorkChain|launch_evaluations]: Launching evaluation 31\n",
      "07/01/2020 07:16:48 PM <34801> aiida.orm.nodes.process.workflow.workchain.WorkChainNode: [REPORT] [1876|AddInputsWorkChain|run_process]: Merging inputs for the sub-process.\n",
      "07/01/2020 07:16:48 PM <34801> aiida.orm.nodes.process.workflow.workchain.WorkChainNode: [REPORT] [1876|AddInputsWorkChain|run_process]: Launching the sub-process.\n",
      "07/01/2020 07:16:49 PM <34801> aiida.orm.nodes.process.workflow.workchain.WorkChainNode: [REPORT] [1876|AddInputsWorkChain|finalize]: Retrieving outputs of the sub-process.\n",
      "07/01/2020 07:16:50 PM <34801> aiida.orm.nodes.process.workflow.workchain.WorkChainNode: [REPORT] [1657|OptimizationWorkChain|get_results]: Checking finished evaluations.\n",
      "07/01/2020 07:16:50 PM <34801> aiida.orm.nodes.process.workflow.workchain.WorkChainNode: [REPORT] [1657|OptimizationWorkChain|get_results]: Retrieving output for evaluation 31\n",
      "07/01/2020 07:16:50 PM <34801> aiida.orm.nodes.process.workflow.workchain.WorkChainNode: [REPORT] [1657|OptimizationWorkChain|not_finished]: Checking if optimization is finished.\n",
      "07/01/2020 07:16:50 PM <34801> aiida.orm.nodes.process.workflow.workchain.WorkChainNode: [REPORT] [1657|OptimizationWorkChain|launch_evaluations]: Launching pending evaluations.\n",
      "07/01/2020 07:16:50 PM <34801> aiida.orm.nodes.process.workflow.workchain.WorkChainNode: [REPORT] [1657|OptimizationWorkChain|submit_inside_contraction]: Submitting inside contraction step.\n",
      "07/01/2020 07:16:50 PM <34801> aiida.orm.nodes.process.workflow.workchain.WorkChainNode: [REPORT] [1657|OptimizationWorkChain|launch_evaluations]: Launching evaluation 32\n",
      "07/01/2020 07:16:50 PM <34801> aiida.orm.nodes.process.workflow.workchain.WorkChainNode: [REPORT] [1883|AddInputsWorkChain|run_process]: Merging inputs for the sub-process.\n",
      "07/01/2020 07:16:50 PM <34801> aiida.orm.nodes.process.workflow.workchain.WorkChainNode: [REPORT] [1883|AddInputsWorkChain|run_process]: Launching the sub-process.\n",
      "07/01/2020 07:16:51 PM <34801> aiida.orm.nodes.process.workflow.workchain.WorkChainNode: [REPORT] [1883|AddInputsWorkChain|finalize]: Retrieving outputs of the sub-process.\n",
      "07/01/2020 07:16:52 PM <34801> aiida.orm.nodes.process.workflow.workchain.WorkChainNode: [REPORT] [1657|OptimizationWorkChain|get_results]: Checking finished evaluations.\n",
      "07/01/2020 07:16:52 PM <34801> aiida.orm.nodes.process.workflow.workchain.WorkChainNode: [REPORT] [1657|OptimizationWorkChain|get_results]: Retrieving output for evaluation 32\n",
      "07/01/2020 07:16:52 PM <34801> aiida.orm.nodes.process.workflow.workchain.WorkChainNode: [REPORT] [1657|OptimizationWorkChain|not_finished]: Checking if optimization is finished.\n",
      "07/01/2020 07:16:52 PM <34801> aiida.orm.nodes.process.workflow.workchain.WorkChainNode: [REPORT] [1657|OptimizationWorkChain|launch_evaluations]: Launching pending evaluations.\n",
      "07/01/2020 07:16:52 PM <34801> aiida.orm.nodes.process.workflow.workchain.WorkChainNode: [REPORT] [1657|OptimizationWorkChain|check_finished]: Maximum distance value for the simplex: 0.11545838738850907\n",
      "07/01/2020 07:16:52 PM <34801> aiida.orm.nodes.process.workflow.workchain.WorkChainNode: [REPORT] [1657|OptimizationWorkChain|check_finished]: Maximum function difference: 0.0061169892361028\n",
      "07/01/2020 07:16:52 PM <34801> aiida.orm.nodes.process.workflow.workchain.WorkChainNode: [REPORT] [1657|OptimizationWorkChain|launch_evaluations]: Launching evaluation 33\n",
      "07/01/2020 07:16:53 PM <34801> aiida.orm.nodes.process.workflow.workchain.WorkChainNode: [REPORT] [1890|AddInputsWorkChain|run_process]: Merging inputs for the sub-process.\n",
      "07/01/2020 07:16:53 PM <34801> aiida.orm.nodes.process.workflow.workchain.WorkChainNode: [REPORT] [1890|AddInputsWorkChain|run_process]: Launching the sub-process.\n",
      "07/01/2020 07:16:54 PM <34801> aiida.orm.nodes.process.workflow.workchain.WorkChainNode: [REPORT] [1890|AddInputsWorkChain|finalize]: Retrieving outputs of the sub-process.\n",
      "07/01/2020 07:16:55 PM <34801> aiida.orm.nodes.process.workflow.workchain.WorkChainNode: [REPORT] [1657|OptimizationWorkChain|get_results]: Checking finished evaluations.\n",
      "07/01/2020 07:16:55 PM <34801> aiida.orm.nodes.process.workflow.workchain.WorkChainNode: [REPORT] [1657|OptimizationWorkChain|get_results]: Retrieving output for evaluation 33\n",
      "07/01/2020 07:16:55 PM <34801> aiida.orm.nodes.process.workflow.workchain.WorkChainNode: [REPORT] [1657|OptimizationWorkChain|not_finished]: Checking if optimization is finished.\n",
      "07/01/2020 07:16:55 PM <34801> aiida.orm.nodes.process.workflow.workchain.WorkChainNode: [REPORT] [1657|OptimizationWorkChain|launch_evaluations]: Launching pending evaluations.\n",
      "07/01/2020 07:16:55 PM <34801> aiida.orm.nodes.process.workflow.workchain.WorkChainNode: [REPORT] [1657|OptimizationWorkChain|submit_inside_contraction]: Submitting inside contraction step.\n",
      "07/01/2020 07:16:55 PM <34801> aiida.orm.nodes.process.workflow.workchain.WorkChainNode: [REPORT] [1657|OptimizationWorkChain|launch_evaluations]: Launching evaluation 34\n",
      "07/01/2020 07:16:55 PM <34801> aiida.orm.nodes.process.workflow.workchain.WorkChainNode: [REPORT] [1897|AddInputsWorkChain|run_process]: Merging inputs for the sub-process.\n",
      "07/01/2020 07:16:55 PM <34801> aiida.orm.nodes.process.workflow.workchain.WorkChainNode: [REPORT] [1897|AddInputsWorkChain|run_process]: Launching the sub-process.\n",
      "07/01/2020 07:16:56 PM <34801> aiida.orm.nodes.process.workflow.workchain.WorkChainNode: [REPORT] [1897|AddInputsWorkChain|finalize]: Retrieving outputs of the sub-process.\n",
      "07/01/2020 07:16:57 PM <34801> aiida.orm.nodes.process.workflow.workchain.WorkChainNode: [REPORT] [1657|OptimizationWorkChain|get_results]: Checking finished evaluations.\n",
      "07/01/2020 07:16:57 PM <34801> aiida.orm.nodes.process.workflow.workchain.WorkChainNode: [REPORT] [1657|OptimizationWorkChain|get_results]: Retrieving output for evaluation 34\n",
      "07/01/2020 07:16:57 PM <34801> aiida.orm.nodes.process.workflow.workchain.WorkChainNode: [REPORT] [1657|OptimizationWorkChain|not_finished]: Checking if optimization is finished.\n",
      "07/01/2020 07:16:57 PM <34801> aiida.orm.nodes.process.workflow.workchain.WorkChainNode: [REPORT] [1657|OptimizationWorkChain|launch_evaluations]: Launching pending evaluations.\n",
      "07/01/2020 07:16:57 PM <34801> aiida.orm.nodes.process.workflow.workchain.WorkChainNode: [REPORT] [1657|OptimizationWorkChain|check_finished]: Maximum distance value for the simplex: 0.07968377936943351\n",
      "07/01/2020 07:16:57 PM <34801> aiida.orm.nodes.process.workflow.workchain.WorkChainNode: [REPORT] [1657|OptimizationWorkChain|check_finished]: Maximum function difference: 0.0014172796065339997\n",
      "07/01/2020 07:16:57 PM <34801> aiida.orm.nodes.process.workflow.workchain.WorkChainNode: [REPORT] [1657|OptimizationWorkChain|get_results]: Checking finished evaluations.\n",
      "07/01/2020 07:16:57 PM <34801> aiida.orm.nodes.process.workflow.workchain.WorkChainNode: [REPORT] [1657|OptimizationWorkChain|not_finished]: Checking if optimization is finished.\n",
      "07/01/2020 07:16:57 PM <34801> aiida.orm.nodes.process.workflow.workchain.WorkChainNode: [REPORT] [1657|OptimizationWorkChain|finalize]: Finalizing optimization procedure.\n"
     ]
    }
   ],
   "source": [
    "res = run(builder)"
   ]
  },
  {
   "cell_type": "code",
   "execution_count": 34,
   "metadata": {},
   "outputs": [
    {
     "data": {
      "text/plain": [
       "<List: uuid: 6921df5c-a6ff-4592-b419-d7912b54c389 (pk: 1896) value: [0.0013929819230568, -0.032789104224374, 0.033942234625789]>"
      ]
     },
     "execution_count": 34,
     "metadata": {},
     "output_type": "execute_result"
    }
   ],
   "source": [
    "load_node(res['optimal_process_uuid'].value).inputs.added_input_values"
   ]
  },
  {
   "cell_type": "code",
   "execution_count": null,
   "metadata": {},
   "outputs": [],
   "source": []
  }
 ],
 "metadata": {
  "kernelspec": {
   "display_name": "aiida-optimize",
   "language": "python",
   "name": "aiida-optimize-tutorial"
  },
  "language_info": {
   "codemirror_mode": {
    "name": "ipython",
    "version": 3
   },
   "file_extension": ".py",
   "mimetype": "text/x-python",
   "name": "python",
   "nbconvert_exporter": "python",
   "pygments_lexer": "ipython3",
   "version": "3.8.2"
  }
 },
 "nbformat": 4,
 "nbformat_minor": 4
}
